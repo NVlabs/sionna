{
  "cells": [
    {
      "cell_type": "markdown",
      "metadata": {
        "id": "tp7_gHACpeS4"
      },
      "source": [
        "# Using the DeepMIMO Dataset with Sionna\n",
        "\n",
        "In this example, you will learn how to use the ray-tracing based DeepMIMO dataset."
      ]
    },
    {
      "cell_type": "markdown",
      "metadata": {
        "id": "SpgUmMabpeS-"
      },
      "source": [
        "[DeepMIMO](https://deepmimo.net/) is a generic dataset that enables a wide range of machine/deep learning applications for MIMO systems. It takes as input a set of parameters (such as antenna array configurations and time-domain/OFDM parameters) and generates MIMO channel realizations, corresponding locations, angles of arrival/departure, etc., based on these parameters and on a ray-tracing scenario selected [from those available in DeepMIMO](https://deepmimo.net/scenarios/).\n",
        "\n",
        "## Table of Contents\n",
        "* [GPU Configuration and Imports](#GPU-Configuration-and-Imports)\n",
        "* [Configuration of DeepMIMO](#Configuration-of-DeepMIMO)\n",
        "* [Using DeepMIMO with Sionna](#Using-DeepMIMO-with-Sionna)\n",
        "* [Link-level Simulations using Sionna and DeepMIMO](#Link-level-Simulations-using-Sionna-and-DeepMIMO)\n",
        "* [DeepMIMO License and Citation](#DeepMIMO-License-and-Citation)"
      ]
    },
    {
      "cell_type": "markdown",
      "metadata": {
        "id": "70aKlvi6peTA"
      },
      "source": [
        "## GPU Configuration and Imports"
      ]
    },
    {
      "cell_type": "code",
      "execution_count": null,
      "metadata": {
        "execution": {
          "iopub.execute_input": "2025-03-13T01:48:42.830858Z",
          "iopub.status.busy": "2025-03-13T01:48:42.830249Z",
          "iopub.status.idle": "2025-03-13T01:48:45.899584Z",
          "shell.execute_reply": "2025-03-13T01:48:45.898771Z"
        },
        "id": "p-UvC0UUpeTC"
      },
      "outputs": [],
      "source": [
        "import os\n",
        "if os.getenv(\"CUDA_VISIBLE_DEVICES\") is None:\n",
        "    gpu_num = 0 # Use \"\" to use the CPU\n",
        "    os.environ[\"CUDA_VISIBLE_DEVICES\"] = f\"{gpu_num}\"\n",
        "os.environ['TF_CPP_MIN_LOG_LEVEL'] = '3'\n",
        "\n",
        "# Import Sionna\n",
        "try:\n",
        "    import sionna.phy\n",
        "except ImportError as e:\n",
        "    import sys\n",
        "    if 'google.colab' in sys.modules:\n",
        "       # Install Sionna in Google Colab\n",
        "       print(\"Installing Sionna and restarting the runtime. Please run the cell again.\")\n",
        "       os.system(\"pip install sionna\")\n",
        "       os.kill(os.getpid(), 5)\n",
        "    else:\n",
        "       raise e\n",
        "\n",
        "# Configure the notebook to use only a single GPU and allocate only as much memory as needed\n",
        "# For more details, see https://www.tensorflow.org/guide/gpu\n",
        "import tensorflow as tf\n",
        "gpus = tf.config.list_physical_devices('GPU')\n",
        "if gpus:\n",
        "    try:\n",
        "        tf.config.experimental.set_memory_growth(gpus[0], True)\n",
        "    except RuntimeError as e:\n",
        "        print(e)\n",
        "# Avoid warnings from TensorFlow\n",
        "tf.get_logger().setLevel('ERROR')\n",
        "\n",
        "sionna.phy.config.seed = 42 # Set seed for reproducible random number generation"
      ]
    },
    {
      "cell_type": "code",
      "execution_count": null,
      "metadata": {
        "execution": {
          "iopub.execute_input": "2025-03-13T01:48:45.903639Z",
          "iopub.status.busy": "2025-03-13T01:48:45.903247Z",
          "iopub.status.idle": "2025-03-13T01:48:45.914833Z",
          "shell.execute_reply": "2025-03-13T01:48:45.913951Z"
        },
        "id": "_lwRzt-mpeTE"
      },
      "outputs": [],
      "source": [
        "%matplotlib inline\n",
        "import matplotlib.pyplot as plt\n",
        "import numpy as np\n",
        "\n",
        "# Load the required Sionna components\n",
        "from sionna.phy import Block\n",
        "from sionna.phy.mimo import StreamManagement\n",
        "from sionna.phy.ofdm import ResourceGrid, ResourceGridMapper, LSChannelEstimator, \\\n",
        "                            LMMSEEqualizer, RZFPrecoder, RemoveNulledSubcarriers\n",
        "from sionna.phy.channel import subcarrier_frequencies, ApplyOFDMChannel, \\\n",
        "                               GenerateOFDMChannel, CIRDataset\n",
        "from sionna.phy.fec.ldpc import LDPC5GEncoder, LDPC5GDecoder\n",
        "from sionna.phy.mapping import BinarySource, Mapper, Demapper\n",
        "from sionna.phy.utils import ebnodb2no, sim_ber\n"
      ]
    },
    {
      "cell_type": "markdown",
      "metadata": {
        "id": "StLgR-2PpeTF"
      },
      "source": [
        "## Configuration of DeepMIMO"
      ]
    },
    {
      "cell_type": "markdown",
      "metadata": {
        "id": "xL5x2AwLpeTH"
      },
      "source": [
        "DeepMIMO provides multiple [scenarios](https://deepmimo.net/scenarios/) that one can select from. In this example, we use the O1 scenario with the carrier frequency set to 60 GHz (O1_60). To run this example, please download the \"O1_60\" data files [from this page](https://deepmimo.net/scenarios/o1-scenario/). The downloaded zip file should be extracted into a folder, and the parameter `DeepMIMO_params['dataset_folder']` should be set to point to this folder, as done below.\n",
        "\n",
        "To use DeepMIMO with Sionna, the DeepMIMO dataset first needs to be generated. The generated DeepMIMO dataset contains channels  for different locations of the users and basestations. The layout of the O1 scenario is shown in the figure below.\n",
        "\n",
        "![img](https://deepmimo.net/examples/sionna_adapter_example.png)\n",
        "\n",
        "In this example, we generate a dataset that consists of channels for the links from the basestation 6 to the users located on the rows 400 to 450. Each of these rows consists of 181 user locations, resulting in $51 \\times 181 = 9231$ basestation-user channels.\n",
        "\n",
        "The antenna arrays in the DeepMIMO dataset are defined through the x-y-z axes. In the following example, a single-user MISO downlink is considered. The basestation is equipped with a uniform linear array of 16 elements spread along the x-axis. The users are each equipped with a single antenna. These parameters can be configured using the code below (for more information about the DeepMIMO parameters, please check [the DeepMIMO configurations](https://deepmimo.net/versions/v2-python/))."
      ]
    },
    {
      "cell_type": "code",
      "execution_count": null,
      "metadata": {
        "execution": {
          "iopub.execute_input": "2025-03-13T01:48:45.918949Z",
          "iopub.status.busy": "2025-03-13T01:48:45.918713Z",
          "iopub.status.idle": "2025-03-13T01:48:52.133244Z",
          "shell.execute_reply": "2025-03-13T01:48:52.132383Z"
        },
        "id": "VyEyyzfLpeTR",
        "outputId": "998331e6-cdfb-4939-8632-2dcca8330372"
      },
      "outputs": [
        {
          "name": "stdout",
          "output_type": "stream",
          "text": [
            "Collecting DeepMIMO\n",
            "  Downloading DeepMIMO-1.0-py3-none-any.whl.metadata (421 bytes)\n",
            "Requirement already satisfied: numpy in /usr/local/lib/python3.10/site-packages (from DeepMIMO) (1.26.4)\n",
            "Requirement already satisfied: scipy in /usr/local/lib/python3.10/site-packages (from DeepMIMO) (1.15.2)\n",
            "Collecting tqdm (from DeepMIMO)\n",
            "  Downloading tqdm-4.67.1-py3-none-any.whl.metadata (57 kB)\n",
            "Downloading DeepMIMO-1.0-py3-none-any.whl (21 kB)\n",
            "Downloading tqdm-4.67.1-py3-none-any.whl (78 kB)\n",
            "Installing collected packages: tqdm, DeepMIMO\n",
            "Successfully installed DeepMIMO-1.0 tqdm-4.67.1\n"
          ]
        },
        {
          "name": "stdout",
          "output_type": "stream",
          "text": [
            "\n",
            "Basestation 6\n",
            "\n",
            "UE-BS Channels\n"
          ]
        },
        {
          "name": "stdout",
          "output_type": "stream",
          "text": [
            "\n",
            "BS-BS Channels\n"
          ]
        }
      ],
      "source": [
        "# Import DeepMIMO\n",
        "try:\n",
        "    import DeepMIMO\n",
        "except ImportError as e:\n",
        "    # Install DeepMIMO if package is not already installed\n",
        "    import os\n",
        "    os.system(\"pip install DeepMIMO\")\n",
        "    import DeepMIMO\n",
        "\n",
        "# Channel generation\n",
        "DeepMIMO_params = DeepMIMO.default_params() # Load the default parameters\n",
        "DeepMIMO_params['dataset_folder'] = r'./scenarios' # Path to the downloaded scenarios\n",
        "DeepMIMO_params['scenario'] = 'O1_60' # DeepMIMO scenario\n",
        "DeepMIMO_params['num_paths'] = 10 # Maximum number of paths\n",
        "DeepMIMO_params['active_BS'] = np.array([6]) # Basestation indices to be included in the dataset\n",
        "\n",
        "# Selected rows of users, whose channels are to be generated.\n",
        "DeepMIMO_params['user_row_first'] = 400 # First user row to be included in the dataset\n",
        "DeepMIMO_params['user_row_last'] = 450 # Last user row to be included in the dataset\n",
        "\n",
        "# Configuration of the antenna arrays\n",
        "DeepMIMO_params['bs_antenna']['shape'] = np.array([16, 1, 1]) # BS antenna shape through [x, y, z] axes\n",
        "DeepMIMO_params['ue_antenna']['shape'] = np.array([1, 1, 1]) # UE antenna shape through [x, y, z] axes\n",
        "\n",
        "# The OFDM_channels parameter allows choosing between the generation of channel impulse\n",
        "# responses (if set to 0) or frequency domain channels (if set to 1).\n",
        "# It is set to 0 for this simulation, as the channel responses in frequency domain\n",
        "# will be generated using Sionna.\n",
        "DeepMIMO_params['OFDM_channels'] = 0\n",
        "\n",
        "# Generates a DeepMIMO dataset\n",
        "DeepMIMO_dataset = DeepMIMO.generate_data(DeepMIMO_params)"
      ]
    },
    {
      "cell_type": "markdown",
      "metadata": {
        "id": "DSqUbtFJpeTU"
      },
      "source": [
        "### Visualization of the dataset\n",
        "\n",
        "To provide a better understanding of the user and basestation locations, we next visualize the locations of the users, highlighting the first active row of users (row 400), and basestation 6."
      ]
    },
    {
      "cell_type": "code",
      "execution_count": null,
      "metadata": {
        "execution": {
          "iopub.execute_input": "2025-03-13T01:48:52.136681Z",
          "iopub.status.busy": "2025-03-13T01:48:52.136424Z",
          "iopub.status.idle": "2025-03-13T01:48:52.372533Z",
          "shell.execute_reply": "2025-03-13T01:48:52.371889Z"
        },
        "id": "4IIUY0aqpeTV",
        "outputId": "8729363f-2a48-4ad8-e3bd-3f474d30bc1f"
      },
      "outputs": [
        {
          "data": {
            "image/png": "[encoded data removed]",
            "text/plain": [
              "<Figure size 1200x800 with 1 Axes>"
            ]
          },
          "metadata": {},
          "output_type": "display_data"
        }
      ],
      "source": [
        "plt.figure(figsize=(12,8))\n",
        "\n",
        "## User locations\n",
        "active_bs_idx = 0 # Select the first active basestation in the dataset\n",
        "plt.scatter(DeepMIMO_dataset[active_bs_idx]['user']['location'][:, 1], # y-axis location of the users\n",
        "         DeepMIMO_dataset[active_bs_idx]['user']['location'][:, 0], # x-axis location of the users\n",
        "         s=1, marker='x', c='C0', label='The users located on the rows %i to %i (R%i to R%i)'%\n",
        "           (DeepMIMO_params['user_row_first'], DeepMIMO_params['user_row_last'],\n",
        "           DeepMIMO_params['user_row_first'], DeepMIMO_params['user_row_last']))\n",
        "# First 181 users correspond to the first row\n",
        "plt.scatter(DeepMIMO_dataset[active_bs_idx]['user']['location'][0:181, 1],\n",
        "         DeepMIMO_dataset[active_bs_idx]['user']['location'][0:181, 0],\n",
        "         s=1, marker='x', c='C1', label='First row of users (R%i)'% (DeepMIMO_params['user_row_first']))\n",
        "\n",
        "## Basestation location\n",
        "plt.scatter(DeepMIMO_dataset[active_bs_idx]['location'][1],\n",
        "         DeepMIMO_dataset[active_bs_idx]['location'][0],\n",
        "         s=50.0, marker='o', c='C2', label='Basestation')\n",
        "\n",
        "plt.gca().invert_xaxis() # Invert the x-axis to align the figure with the figure above\n",
        "plt.ylabel('x-axis')\n",
        "plt.xlabel('y-axis')\n",
        "plt.grid()\n",
        "plt.legend();"
      ]
    },
    {
      "cell_type": "markdown",
      "metadata": {
        "id": "DAFp6Ly6peTW"
      },
      "source": [
        "## Using DeepMIMO with Sionna\n",
        "\n",
        "The DeepMIMO Python package provides [a Sionna-compliant channel impulse response generator](https://nvlabs.github.io/sionna/phy/tutorials/CIR_Dataset.html#Generators) that adapts the structure of the DeepMIMO dataset to be consistent with Sionna.\n",
        "\n",
        "An adapter is instantiated for a given DeepMIMO dataset. In addition to the dataset, the adapter takes the indices of the basestations and users, to generate the channels between these basestations and users:\n",
        "\n",
        "`DeepMIMOSionnaAdapter(DeepMIMO_dataset, bs_idx, ue_idx)`\n",
        "\n",
        "\n",
        "**Note:** `bs_idx` and `ue_idx` set the links from which the channels are drawn. For instance, if `bs_idx = [0, 1]` and `ue_idx = [2, 3]`, the adapter then outputs the 4 channels formed by the combination of the first and second basestations with the third and fourth users.\n",
        "\n",
        "The default behavior for `bs_idx` and `ue_idx` are defined as follows:\n",
        "- If value for `bs_idx` is not given, it will be set to `[0]` (i.e., the first basestation in the `DeepMIMO_dataset`).\n",
        "- If value for `ue_idx` is not given, then channels are provided for the links between the `bs_idx` and all users (i.e., `ue_idx=range(len(DeepMIMO_dataset[0]['user']['channel']))`.\n",
        "- If the both `bs_idx` and `ue_idx` are not given, the channels between the first basestation and all the users are provided by the adapter. For this example, `DeepMIMOSionnaAdapter(DeepMIMO_dataset)` returns the channels from the basestation 6 and the 9231 available user locations.\n",
        "\n",
        "**Note:** The adapter assumes basestations are transmitters and users are receivers. Uplink channels can be obtained using (transpose) reciprocity.\n",
        "\n",
        "### Random Sampling of Multi-User Channels\n",
        "\n",
        "When considering multiple basestations, `bs_idx` can be set to a 2D numpy matrix of shape $($ # of samples $\\times$ # of basestations per sample $)$. In this case, for each sample of basestations, the `DeepMIMOSionnaAdapter` returns a set of $($ # of basestations per sample $\\times$ # of users $)$ channels, which can be provided as a multi-transmitter sample for the Sionna model. For example, `bs_idx = np.array([[0, 1], [2, 3], [4, 5]])` provides three sets of $($ 2 basestations $\\times$ # of users $)$ channels. These three channel sets are from the basestation sets `[0, 1]`, `[2, 3]`, and `[4, 5]`, respectively, to the users.\n",
        "\n",
        "To use the adapter for multi-user channels, `ue_idx` can be set to a 2D numpy matrix of shape $($ # of samples $\\times$ # of users per sample $)$. In this case, for each sample of users, the `DeepMIMOSionnaAdapter` returns a set of $($ # of basestations $\\times$ # of users per sample $)$ channels, which can be provided as a multi-receiver sample for the Sionna model. For example, `ue_idx = np.array([[0, 1 ,2], [4, 5, 6]])` provides two sets of $($ # of basestations $\\times$ 3 users $)$ channels. These two channel sets are from the basestations to the user sets `[0, 1, 2]` and `[4, 5, 6]`, respectively.\n",
        "\n",
        "In order to randomly sample channels from all the available user locations considering `num_rx` users, one may set `ue_idx` as in the following cell. In this example, the channels will be randomly chosen from the links between the basestation 6 and the 9231 available user locations."
      ]
    },
    {
      "cell_type": "code",
      "execution_count": null,
      "metadata": {
        "execution": {
          "iopub.execute_input": "2025-03-13T01:48:52.376377Z",
          "iopub.status.busy": "2025-03-13T01:48:52.376179Z",
          "iopub.status.idle": "2025-03-13T01:48:52.380757Z",
          "shell.execute_reply": "2025-03-13T01:48:52.380192Z"
        },
        "id": "-cNtN1ITpeTW"
      },
      "outputs": [],
      "source": [
        "from DeepMIMO import DeepMIMOSionnaAdapter\n",
        "\n",
        "# Number of receivers for the Sionna model.\n",
        "# MISO is considered here.\n",
        "num_rx = 1\n",
        "\n",
        "# The number of UE locations in the generated DeepMIMO dataset\n",
        "num_ue_locations = len(DeepMIMO_dataset[0]['user']['channel']) # 9231\n",
        "# Pick the largest possible number of user locations that is a multiple of ``num_rx``\n",
        "ue_idx = np.arange(num_rx*(num_ue_locations//num_rx))\n",
        "# Optionally shuffle the dataset to not select only users that are near each others\n",
        "np.random.shuffle(ue_idx)\n",
        "# Reshape to fit the requested number of users\n",
        "ue_idx = np.reshape(ue_idx, [-1, num_rx]) # In the shape of (floor(9231/num_rx) x num_rx)\n",
        "\n",
        "DeepMIMO_Sionna_adapter = DeepMIMOSionnaAdapter(DeepMIMO_dataset, ue_idx=ue_idx)"
      ]
    },
    {
      "cell_type": "markdown",
      "metadata": {
        "id": "3h8ftZ3KpeTX"
      },
      "source": [
        "## Link-level Simulations using Sionna and DeepMIMO\n",
        "\n",
        "In the following cell, we define a Sionna model implementing the end-to-end link.\n",
        "\n",
        "**Note:** The Sionna CIRDataset object shuffles the DeepMIMO channels provided by the adapter. Therefore, channel samples are passed through the model in a random order."
      ]
    },
    {
      "cell_type": "code",
      "execution_count": null,
      "metadata": {
        "execution": {
          "iopub.execute_input": "2025-03-13T01:48:52.384454Z",
          "iopub.status.busy": "2025-03-13T01:48:52.384238Z",
          "iopub.status.idle": "2025-03-13T01:48:52.397002Z",
          "shell.execute_reply": "2025-03-13T01:48:52.396376Z"
        },
        "id": "qFeVqsxtpeTY"
      },
      "outputs": [],
      "source": [
        "class LinkModel(Block):\n",
        "    def __init__(self,\n",
        "                 DeepMIMO_Sionna_adapter,\n",
        "                 carrier_frequency,\n",
        "                 cyclic_prefix_length,\n",
        "                 pilot_ofdm_symbol_indices,\n",
        "                 subcarrier_spacing = 60e3,\n",
        "                 batch_size = 64\n",
        "                ):\n",
        "        super().__init__()\n",
        "\n",
        "        self._batch_size = batch_size\n",
        "        self._cyclic_prefix_length = cyclic_prefix_length\n",
        "        self._pilot_ofdm_symbol_indices = pilot_ofdm_symbol_indices\n",
        "\n",
        "        # CIRDataset to parse the dataset\n",
        "        self._CIR = CIRDataset(DeepMIMO_Sionna_adapter,\n",
        "                               self._batch_size,\n",
        "                               DeepMIMO_Sionna_adapter.num_rx,\n",
        "                               DeepMIMO_Sionna_adapter.num_rx_ant,\n",
        "                               DeepMIMO_Sionna_adapter.num_tx,\n",
        "                               DeepMIMO_Sionna_adapter.num_tx_ant,\n",
        "                               DeepMIMO_Sionna_adapter.num_paths,\n",
        "                               DeepMIMO_Sionna_adapter.num_time_steps)\n",
        "\n",
        "        # System parameters\n",
        "        self._carrier_frequency = carrier_frequency\n",
        "        self._subcarrier_spacing = subcarrier_spacing\n",
        "        self._fft_size = 76\n",
        "        self._num_ofdm_symbols = 14\n",
        "        self._num_streams_per_tx = DeepMIMO_Sionna_adapter.num_rx\n",
        "        self._dc_null = False\n",
        "        self._num_guard_carriers = [0, 0]\n",
        "        self._pilot_pattern = \"kronecker\"\n",
        "        self._pilot_ofdm_symbol_indices = pilot_ofdm_symbol_indices\n",
        "        self._num_bits_per_symbol = 4\n",
        "        self._coderate = 0.5\n",
        "\n",
        "        # Setup the OFDM resource grid and stream management\n",
        "        self._sm = StreamManagement(np.ones([DeepMIMO_Sionna_adapter.num_rx, 1], int), self._num_streams_per_tx)\n",
        "        self._rg = ResourceGrid(num_ofdm_symbols=self._num_ofdm_symbols,\n",
        "                                fft_size=self._fft_size,\n",
        "                                subcarrier_spacing = self._subcarrier_spacing,\n",
        "                                num_tx=DeepMIMO_Sionna_adapter.num_tx,\n",
        "                                num_streams_per_tx=self._num_streams_per_tx,\n",
        "                                cyclic_prefix_length=self._cyclic_prefix_length,\n",
        "                                num_guard_carriers=self._num_guard_carriers,\n",
        "                                dc_null=self._dc_null,\n",
        "                                pilot_pattern=self._pilot_pattern,\n",
        "                                pilot_ofdm_symbol_indices=self._pilot_ofdm_symbol_indices)\n",
        "\n",
        "        # Components forming the link\n",
        "\n",
        "        # Codeword length\n",
        "        self._n = int(self._rg.num_data_symbols * self._num_bits_per_symbol)\n",
        "        # Number of information bits per codeword\n",
        "        self._k = int(self._n * self._coderate)\n",
        "\n",
        "        # OFDM channel\n",
        "        self._frequencies = subcarrier_frequencies(self._rg.fft_size, self._rg.subcarrier_spacing)\n",
        "        self._ofdm_channel = GenerateOFDMChannel(self._CIR, self._rg, normalize_channel=True)\n",
        "        self._channel_freq = ApplyOFDMChannel(add_awgn=True)\n",
        "\n",
        "        # Transmitter\n",
        "        self._binary_source = BinarySource()\n",
        "        self._encoder = LDPC5GEncoder(self._k, self._n)\n",
        "        self._mapper = Mapper(\"qam\", self._num_bits_per_symbol)\n",
        "        self._rg_mapper = ResourceGridMapper(self._rg)\n",
        "        self._zf_precoder = RZFPrecoder(self._rg, self._sm, return_effective_channel=True)\n",
        "\n",
        "        # Receiver\n",
        "        self._ls_est = LSChannelEstimator(self._rg, interpolation_type=\"lin_time_avg\")\n",
        "        self._lmmse_equ = LMMSEEqualizer(self._rg, self._sm)\n",
        "        self._demapper = Demapper(\"app\", \"qam\", self._num_bits_per_symbol)\n",
        "        self._decoder = LDPC5GDecoder(self._encoder, hard_out=True)\n",
        "        self._remove_nulled_scs = RemoveNulledSubcarriers(self._rg)\n",
        "\n",
        "    def call(self, batch_size, ebno_db):\n",
        "\n",
        "        # Transmitter\n",
        "        b = self._binary_source([self._batch_size, 1, self._num_streams_per_tx, self._k])\n",
        "        c = self._encoder(b)\n",
        "        x = self._mapper(c)\n",
        "        x_rg = self._rg_mapper(x)\n",
        "        # Generate the OFDM channel\n",
        "        h_freq = self._ofdm_channel()\n",
        "        # Precoding\n",
        "        x_rg, g = self._zf_precoder(x_rg, h_freq)\n",
        "\n",
        "        # Apply OFDM channel\n",
        "        no = ebnodb2no(ebno_db, self._num_bits_per_symbol, self._coderate, self._rg)\n",
        "        y = self._channel_freq(x_rg, h_freq, no)\n",
        "\n",
        "        # Receiver\n",
        "        h_hat, err_var = self._ls_est (y, no)\n",
        "        x_hat, no_eff = self._lmmse_equ(y, h_hat, err_var, no)\n",
        "        llr = self._demapper(x_hat, no_eff)\n",
        "        b_hat = self._decoder(llr)\n",
        "\n",
        "        return b, b_hat"
      ]
    },
    {
      "cell_type": "markdown",
      "metadata": {
        "id": "qMYozII0peTZ"
      },
      "source": [
        "We next evaluate the setup with different $E_b/N_0$ values to obtain BLER curves."
      ]
    },
    {
      "cell_type": "code",
      "execution_count": null,
      "metadata": {
        "execution": {
          "iopub.execute_input": "2025-03-13T01:48:52.400127Z",
          "iopub.status.busy": "2025-03-13T01:48:52.399905Z",
          "iopub.status.idle": "2025-03-13T01:49:23.855650Z",
          "shell.execute_reply": "2025-03-13T01:49:23.854765Z"
        },
        "id": "yqe8sR0TpeTZ",
        "outputId": "f066ecfd-a522-4b83-9ade-4c85919c38a6"
      },
      "outputs": [
        {
          "name": "stdout",
          "output_type": "stream",
          "text": [
            "EbNo [dB] |        BER |       BLER |  bit errors |    num bits | block errors |  num blocks | runtime [s] |    status\n",
            "---------------------------------------------------------------------------------------------------------------------------------------\n",
            "     -7.0 | 1.2337e-01 | 1.0000e+00 |       28803 |      233472 |          128 |         128 |         7.4 |reached target block errors\n",
            "   -6.806 | 9.1728e-02 | 9.9219e-01 |       21416 |      233472 |          127 |         128 |         0.1 |reached target block errors\n",
            "   -6.611 | 6.0393e-02 | 9.3750e-01 |       14100 |      233472 |          120 |         128 |         0.1 |reached target block errors\n",
            "   -6.417 | 2.7489e-02 | 7.6562e-01 |        9627 |      350208 |          147 |         192 |         0.1 |reached target block errors\n",
            "   -6.222 | 6.6111e-03 | 3.9844e-01 |        3087 |      466944 |          102 |         256 |         0.2 |reached target block errors\n",
            "   -6.028 | 9.2416e-04 | 9.9265e-02 |        1834 |     1984512 |          108 |        1088 |         0.9 |reached target block errors\n",
            "   -5.833 | 7.8896e-05 | 1.3594e-02 |         921 |    11673600 |           87 |        6400 |         5.1 |reached max iterations\n",
            "   -5.639 | 9.8513e-06 | 2.0313e-03 |         115 |    11673600 |           13 |        6400 |         5.2 |reached max iterations\n",
            "   -5.444 | 4.2832e-07 | 1.5625e-04 |           5 |    11673600 |            1 |        6400 |         5.2 |reached max iterations\n",
            "    -5.25 | 0.0000e+00 | 0.0000e+00 |           0 |    11673600 |            0 |        6400 |         5.1 |reached max iterations\n",
            "\n",
            "Simulation stopped as no error occurred @ EbNo = -5.2 dB.\n",
            "\n"
          ]
        }
      ],
      "source": [
        "sim_params = {\n",
        "              \"ebno_db\": np.linspace(-7, -5.25, 10),\n",
        "              \"cyclic_prefix_length\" : 0,\n",
        "              \"pilot_ofdm_symbol_indices\" : [2, 11],\n",
        "              }\n",
        "batch_size = 64\n",
        "model = LinkModel(DeepMIMO_Sionna_adapter=DeepMIMO_Sionna_adapter,\n",
        "                  carrier_frequency=DeepMIMO_params['scenario_params']['carrier_freq'],\n",
        "                  cyclic_prefix_length=sim_params[\"cyclic_prefix_length\"],\n",
        "                  pilot_ofdm_symbol_indices=sim_params[\"pilot_ofdm_symbol_indices\"])\n",
        "ber, bler = sim_ber(model,\n",
        "                    sim_params[\"ebno_db\"],\n",
        "                    batch_size=batch_size,\n",
        "                    max_mc_iter=100,\n",
        "                    num_target_block_errors=100,\n",
        "                    graph_mode=\"graph\")"
      ]
    },
    {
      "cell_type": "code",
      "execution_count": null,
      "metadata": {
        "execution": {
          "iopub.execute_input": "2025-03-13T01:49:23.859850Z",
          "iopub.status.busy": "2025-03-13T01:49:23.859631Z",
          "iopub.status.idle": "2025-03-13T01:49:24.255402Z",
          "shell.execute_reply": "2025-03-13T01:49:24.254518Z"
        },
        "id": "7fEATWHppeTa",
        "outputId": "27758c89-a19d-4d13-f14b-7c465d26dce3"
      },
      "outputs": [
        {
          "data": {
            "text/plain": [
              "[<matplotlib.lines.Line2D at 0x7f541c4572e0>]"
            ]
          },
          "execution_count": 8,
          "metadata": {},
          "output_type": "execute_result"
        },
        {
          "data": {
            "image/png": "[encoded data removed]",
            "text/plain": [
              "<Figure size 1200x800 with 1 Axes>"
            ]
          },
          "metadata": {},
          "output_type": "display_data"
        }
      ],
      "source": [
        "plt.figure(figsize=(12,8))\n",
        "plt.xlabel(r\"$E_b/N_0$ (dB)\")\n",
        "plt.ylabel(\"BLER\")\n",
        "plt.grid(which=\"both\")\n",
        "plt.semilogy(sim_params[\"ebno_db\"], bler)"
      ]
    },
    {
      "cell_type": "markdown",
      "metadata": {
        "id": "2FwD9U4TpeTb"
      },
      "source": [
        "## DeepMIMO License and Citation\n",
        "\n",
        "A. Alkhateeb, “[DeepMIMO: A Generic Deep Learning Dataset for Millimeter Wave and Massive MIMO Applications](https://arxiv.org/pdf/1902.06435.pdf),” in Proc. of Information Theory and Applications Workshop (ITA), San Diego, CA, Feb. 2019.\n",
        "\n",
        "To use the DeepMIMO dataset, please check the license information [here](https://deepmimo.net/license/)."
      ]
    }
  ],
  "metadata": {
    "kernelspec": {
      "display_name": "Python 3",
      "language": "python",
      "name": "python3"
    },
    "language_info": {
      "codemirror_mode": {
        "name": "ipython",
        "version": 3
      },
      "file_extension": ".py",
      "mimetype": "text/x-python",
      "name": "python",
      "nbconvert_exporter": "python",
      "pygments_lexer": "ipython3",
      "version": "3.10.16"
    },
    "colab": {
      "provenance": []
    }
  },
  "nbformat": 4,
  "nbformat_minor": 0
}