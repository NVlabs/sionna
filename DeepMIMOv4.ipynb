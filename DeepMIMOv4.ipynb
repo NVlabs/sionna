{
  "cells": [
    {
      "cell_type": "markdown",
      "metadata": {
        "id": "lSbcn0aLtPmH"
      },
      "source": [
        "# Using the DeepMIMO Dataset with Sionna\n",
        "\n",
        "In this example, you will learn how to use the ray-tracing based DeepMIMO dataset."
      ]
    },
    {
      "cell_type": "markdown",
      "metadata": {
        "id": "Thv9PInhtPmI"
      },
      "source": [
        "[DeepMIMO](https://deepmimo.net/) is a generic dataset that enables a wide range of machine/deep learning applications for MIMO systems. It takes as input a set of parameters (such as antenna array configurations and time-domain/OFDM parameters) and generates MIMO channel realizations, corresponding locations, angles of arrival/departure, etc., based on these parameters and on a ray-tracing scenario selected [from those available in DeepMIMO](https://deepmimo.net/scenarios/).\n",
        "\n",
        "## Table of Contents\n",
        "* [GPU Configuration and Imports](#GPU-Configuration-and-Imports)\n",
        "* [Configuration of DeepMIMO](#Configuration-of-DeepMIMO)\n",
        "* [Using DeepMIMO with Sionna](#Using-DeepMIMO-with-Sionna)\n",
        "* [Link-level Simulations using Sionna and DeepMIMO](#Link-level-Simulations-using-Sionna-and-DeepMIMO)\n",
        "* [DeepMIMO License and Citation](#DeepMIMO-License-and-Citation)"
      ]
    },
    {
      "cell_type": "markdown",
      "metadata": {
        "id": "G-qy_3RatPmI"
      },
      "source": [
        "## GPU Configuration and Imports"
      ]
    },
    {
      "cell_type": "code",
      "execution_count": null,
      "metadata": {
        "execution": {
          "iopub.execute_input": "2025-03-13T01:48:42.830858Z",
          "iopub.status.busy": "2025-03-13T01:48:42.830249Z",
          "iopub.status.idle": "2025-03-13T01:48:45.899584Z",
          "shell.execute_reply": "2025-03-13T01:48:45.898771Z"
        },
        "id": "yuejsob6tPmJ"
      },
      "outputs": [],
      "source": [
        "import os\n",
        "if os.getenv(\"CUDA_VISIBLE_DEVICES\") is None:\n",
        "    gpu_num = 0 # Use \"\" to use the CPU\n",
        "    os.environ[\"CUDA_VISIBLE_DEVICES\"] = f\"{gpu_num}\"\n",
        "os.environ['TF_CPP_MIN_LOG_LEVEL'] = '3'\n",
        "\n",
        "# Import Sionna\n",
        "try:\n",
        "    import sionna.phy\n",
        "except ImportError as e:\n",
        "    import sys\n",
        "    if 'google.colab' in sys.modules:\n",
        "       # Install Sionna in Google Colab\n",
        "       print(\"Installing Sionna and restarting the runtime. Please run the cell again.\")\n",
        "       os.system(\"pip install sionna\")\n",
        "       os.kill(os.getpid(), 5)\n",
        "    else:\n",
        "       raise e\n",
        "\n",
        "# Configure the notebook to use only a single GPU and allocate only as much memory as needed\n",
        "# For more details, see https://www.tensorflow.org/guide/gpu\n",
        "import tensorflow as tf\n",
        "gpus = tf.config.list_physical_devices('GPU')\n",
        "if gpus:\n",
        "    try:\n",
        "        tf.config.experimental.set_memory_growth(gpus[0], True)\n",
        "    except RuntimeError as e:\n",
        "        print(e)\n",
        "# Avoid warnings from TensorFlow\n",
        "tf.get_logger().setLevel('ERROR')\n",
        "\n",
        "sionna.phy.config.seed = 42 # Set seed for reproducible random number generation"
      ]
    },
    {
      "cell_type": "code",
      "execution_count": null,
      "metadata": {
        "execution": {
          "iopub.execute_input": "2025-03-13T01:48:45.903639Z",
          "iopub.status.busy": "2025-03-13T01:48:45.903247Z",
          "iopub.status.idle": "2025-03-13T01:48:45.914833Z",
          "shell.execute_reply": "2025-03-13T01:48:45.913951Z"
        },
        "id": "kZ21nyrJtPmJ"
      },
      "outputs": [],
      "source": [
        "%matplotlib inline\n",
        "import matplotlib.pyplot as plt\n",
        "import numpy as np\n",
        "\n",
        "# Load the required Sionna components\n",
        "from sionna.phy import Block\n",
        "from sionna.phy.mimo import StreamManagement\n",
        "from sionna.phy.ofdm import ResourceGrid, ResourceGridMapper, LSChannelEstimator, \\\n",
        "                            LMMSEEqualizer, RZFPrecoder, RemoveNulledSubcarriers\n",
        "from sionna.phy.channel import subcarrier_frequencies, ApplyOFDMChannel, \\\n",
        "                               GenerateOFDMChannel, CIRDataset\n",
        "from sionna.phy.fec.ldpc import LDPC5GEncoder, LDPC5GDecoder\n",
        "from sionna.phy.mapping import BinarySource, Mapper, Demapper\n",
        "from sionna.phy.utils import ebnodb2no, sim_ber\n"
      ]
    },
    {
      "cell_type": "markdown",
      "metadata": {
        "id": "6Ze8zPzztPmJ"
      },
      "source": [
        "## Configuration of DeepMIMO"
      ]
    },
    {
      "cell_type": "markdown",
      "metadata": {
        "id": "12rSAfnUtPmJ"
      },
      "source": [
        "DeepMIMO provides multiple [scenarios](https://deepmimo.net/scenarios/) that one can select from. Here, we use the `O1_60` scenario, which is an instance of O1 with the carrier frequency set to 60 GHz.\n",
        "\n",
        "To use DeepMIMO with Sionna, the DeepMIMO dataset first needs to be generated. The generated DeepMIMO dataset contains channels for different locations of the users and basestations. The layout of the O1 scenario is shown in the figure below.\n",
        "\n",
        "![img](https://deepmimo.net/examples/sionna_adapter_example.png)\n",
        "\n",
        "In this example, we generate a dataset that consists of channels for the links from the basestation 6 to the users located on the rows 400 to 450. Each of these rows consists of 181 user locations, resulting in $51 \\times 181 = 9231$ basestation-user channels.\n",
        "\n",
        "The antenna arrays in the DeepMIMO dataset are defined as number of horizontal & vertical elements. In the following example, a single-user MISO downlink is considered. The basestation is equipped with a uniform linear array of 16 elements, which is oriented towards the positive x-axis by default. The users are each equipped with a single antenna. These parameters can be configured using the code below (for more information about the DeepMIMO parameters, please check [the DeepMIMO documentation](https://deepmimo.net/documentation)."
      ]
    },
    {
      "cell_type": "code",
      "source": [
        "# Import DeepMIMO (install package if import fails)\n",
        "try:\n",
        "    import deepmimo as dm\n",
        "except ImportError as e:\n",
        "    import os\n",
        "    os.system(\"pip install --pre deepmimo\")\n",
        "    import deepmimo as dm"
      ],
      "metadata": {
        "id": "Y39zbDbyuQ2J"
      },
      "execution_count": null,
      "outputs": []
    },
    {
      "cell_type": "code",
      "execution_count": null,
      "metadata": {
        "execution": {
          "iopub.execute_input": "2025-03-13T01:48:45.918949Z",
          "iopub.status.busy": "2025-03-13T01:48:45.918713Z",
          "iopub.status.idle": "2025-03-13T01:48:52.133244Z",
          "shell.execute_reply": "2025-03-13T01:48:52.132383Z"
        },
        "colab": {
          "base_uri": "https://localhost:8080/"
        },
        "id": "h8cNH5cGtPmN",
        "outputId": "edf9507e-66a9-47f8-cd14-e3f977c3f0d0"
      },
      "outputs": [
        {
          "output_type": "stream",
          "name": "stdout",
          "text": [
            "Downloading scenario 'o1_60'\n"
          ]
        },
        {
          "output_type": "stream",
          "name": "stderr",
          "text": [
            "Downloading: 100%|██████████| 2.30G/2.30G [00:45<00:00, 54.6MB/s]\n"
          ]
        },
        {
          "output_type": "stream",
          "name": "stdout",
          "text": [
            "✓ Downloaded to /content/deepmimo_scenarios/o1_60_downloaded.zip\n"
          ]
        },
        {
          "output_type": "stream",
          "name": "stderr",
          "text": [
            "Extracting: 100%|██████████| 4161/4161 [02:37<00:00, 26.34file/s] \n"
          ]
        },
        {
          "output_type": "stream",
          "name": "stdout",
          "text": [
            "✓ Unzipped and moved to /content/deepmimo_scenarios\n",
            "✓ Scenario 'o1_60' ready to use!\n",
            "Loading TXRX PAIR: TXset 6 (tx_idx 0) & RXset 0 (rx_idxs 497931)\n"
          ]
        }
      ],
      "source": [
        "# Download the dataset\n",
        "dm.download('O1_60')\n",
        "\n",
        "# Load a BS-RX grid combination\n",
        "load_params = {'max_paths': 10, 'tx_sets': [6], 'rx_sets': [0]}\n",
        "dataset = dm.load('O1_60', **load_params)\n",
        "\n",
        "# Select a subset of users in the dataset (and trim matrices)\n",
        "sel_usr_idxs = dataset.get_row_idxs(range(400, 451))\n",
        "dataset_t = dataset.subset(sel_usr_idxs)"
      ]
    },
    {
      "cell_type": "code",
      "source": [
        "# Channel generation\n",
        "params = dm.ChannelParameters() # Load the default parameters\n",
        "\n",
        "# Configuration of the antenna arrays\n",
        "params.bs_antenna.shape = [16, 1] # BS antenna shape [horizontal, vertical]\n",
        "params.ue_antenna.shape = [1, 1]  # UE antenna shape [horizontal, vertical]\n",
        "\n",
        "# Configure time domain channels. Sionna will generate in frequency domain\n",
        "params.freq_domain = False\n",
        "\n",
        "# Generates a DeepMIMO dataset\n",
        "dataset_t.compute_channels(params)\n",
        "dataset_t.channels.shape # (num_rx, num_rx_ant, num_tx_ant, num_time)"
      ],
      "metadata": {
        "colab": {
          "base_uri": "https://localhost:8080/"
        },
        "id": "XkPe8gvwuPfk",
        "outputId": "fe0fe508-7a82-4639-d46c-86c5b0be6967"
      },
      "execution_count": null,
      "outputs": [
        {
          "output_type": "stream",
          "name": "stderr",
          "text": [
            "Generating channels: 100%|██████████| 9231/9231 [00:00<00:00, 29525.95it/s]\n"
          ]
        },
        {
          "output_type": "execute_result",
          "data": {
            "text/plain": [
              "(9231, 1, 16, 10)"
            ]
          },
          "metadata": {},
          "execution_count": 5
        }
      ]
    },
    {
      "cell_type": "markdown",
      "metadata": {
        "id": "dhOdsh0rtPmN"
      },
      "source": [
        "### Visualization of the dataset\n",
        "\n",
        "To provide a better understanding of the user and basestation locations, we next visualize the locations of the users, highlighting the first active row of users (row 400), and basestation 6."
      ]
    },
    {
      "cell_type": "code",
      "execution_count": null,
      "metadata": {
        "execution": {
          "iopub.execute_input": "2025-03-13T01:48:52.136681Z",
          "iopub.status.busy": "2025-03-13T01:48:52.136424Z",
          "iopub.status.idle": "2025-03-13T01:48:52.372533Z",
          "shell.execute_reply": "2025-03-13T01:48:52.371889Z"
        },
        "colab": {
          "base_uri": "https://localhost:8080/",
          "height": 388
        },
        "id": "0ShXyVmItPmN",
        "outputId": "0b9b8a8c-4076-408e-9027-cf0160c3a797"
      },
      "outputs": [
        {
          "output_type": "display_data",
          "data": {
            "text/plain": [
              "<Figure size 600x400 with 2 Axes>"
            ],
            "image/png": "[encoded data removed]"
          },
          "metadata": {}
        }
      ],
      "source": [
        " # Plot the azimuth of the AoA\n",
        "dataset_t.aoa_az.plot(cbar_title='Angle of Arrival (deg)')"
      ]
    },
    {
      "cell_type": "markdown",
      "metadata": {
        "id": "YlwUGc-NtPmO"
      },
      "source": [
        "## Using DeepMIMO with Sionna\n",
        "\n",
        "The DeepMIMO Python package provides [a Sionna-compliant channel impulse response generator](https://nvlabs.github.io/sionna/phy/tutorials/CIR_Dataset.html#Generators) that adapts the structure of the DeepMIMO dataset to be consistent with Sionna.\n",
        "\n",
        "An adapter is instantiated for a given DeepMIMO dataset. The adapter only requires the dataset to adapt and it will generate samples for all users and basestations in that dataset.\n",
        "\n",
        "In this example, `SionnaAdapter(dataset)` will return the channels from the basestation 6 and the 9231 available user locations.\n",
        "\n",
        "**Note:** The adapter assumes basestations are transmitters and users are receivers. Uplink channels can be obtained using (transpose) reciprocity."
      ]
    },
    {
      "cell_type": "code",
      "execution_count": null,
      "metadata": {
        "execution": {
          "iopub.execute_input": "2025-03-13T01:48:52.376377Z",
          "iopub.status.busy": "2025-03-13T01:48:52.376179Z",
          "iopub.status.idle": "2025-03-13T01:48:52.380757Z",
          "shell.execute_reply": "2025-03-13T01:48:52.380192Z"
        },
        "id": "6LDSxX9PtPmO"
      },
      "outputs": [],
      "source": [
        "from deepmimo.integrations import SionnaAdapter\n",
        "\n",
        "deepmimo_sionna_adapter = SionnaAdapter(dataset_t)"
      ]
    },
    {
      "cell_type": "markdown",
      "metadata": {
        "id": "rl8wZ1O-tPmO"
      },
      "source": [
        "## Link-level Simulations using Sionna and DeepMIMO\n",
        "\n",
        "In the following cell, we define a Sionna model implementing the end-to-end link.\n",
        "\n",
        "**Note:** The Sionna CIRDataset object shuffles the DeepMIMO channels provided by the adapter. Therefore, channel samples are passed through the model in a random order."
      ]
    },
    {
      "cell_type": "code",
      "execution_count": null,
      "metadata": {
        "execution": {
          "iopub.execute_input": "2025-03-13T01:48:52.384454Z",
          "iopub.status.busy": "2025-03-13T01:48:52.384238Z",
          "iopub.status.idle": "2025-03-13T01:48:52.397002Z",
          "shell.execute_reply": "2025-03-13T01:48:52.396376Z"
        },
        "id": "EeoY1rP9tPmO"
      },
      "outputs": [],
      "source": [
        "class LinkModel(Block):\n",
        "    def __init__(self,\n",
        "                 DeepMIMO_Sionna_adapter,\n",
        "                 carrier_frequency,\n",
        "                 cyclic_prefix_length,\n",
        "                 pilot_ofdm_symbol_indices,\n",
        "                 subcarrier_spacing = 60e3,\n",
        "                 batch_size = 64\n",
        "                ):\n",
        "        super().__init__()\n",
        "\n",
        "        self._batch_size = batch_size\n",
        "        self._cyclic_prefix_length = cyclic_prefix_length\n",
        "        self._pilot_ofdm_symbol_indices = pilot_ofdm_symbol_indices\n",
        "\n",
        "        # CIRDataset to parse the dataset\n",
        "        self._CIR = CIRDataset(DeepMIMO_Sionna_adapter,\n",
        "                               self._batch_size,\n",
        "                               DeepMIMO_Sionna_adapter.num_rx,\n",
        "                               DeepMIMO_Sionna_adapter.num_rx_ant,\n",
        "                               DeepMIMO_Sionna_adapter.num_tx,\n",
        "                               DeepMIMO_Sionna_adapter.num_tx_ant,\n",
        "                               DeepMIMO_Sionna_adapter.num_paths,\n",
        "                               DeepMIMO_Sionna_adapter.num_time_steps)\n",
        "\n",
        "        # System parameters\n",
        "        self._carrier_frequency = carrier_frequency\n",
        "        self._subcarrier_spacing = subcarrier_spacing\n",
        "        self._fft_size = 76\n",
        "        self._num_ofdm_symbols = 14\n",
        "        self._num_streams_per_tx = DeepMIMO_Sionna_adapter.num_rx\n",
        "        self._dc_null = False\n",
        "        self._num_guard_carriers = [0, 0]\n",
        "        self._pilot_pattern = \"kronecker\"\n",
        "        self._pilot_ofdm_symbol_indices = pilot_ofdm_symbol_indices\n",
        "        self._num_bits_per_symbol = 4\n",
        "        self._coderate = 0.5\n",
        "\n",
        "        # Setup the OFDM resource grid and stream management\n",
        "        self._sm = StreamManagement(np.ones([DeepMIMO_Sionna_adapter.num_rx, 1], int), self._num_streams_per_tx)\n",
        "        self._rg = ResourceGrid(num_ofdm_symbols=self._num_ofdm_symbols,\n",
        "                                fft_size=self._fft_size,\n",
        "                                subcarrier_spacing = self._subcarrier_spacing,\n",
        "                                num_tx=DeepMIMO_Sionna_adapter.num_tx,\n",
        "                                num_streams_per_tx=self._num_streams_per_tx,\n",
        "                                cyclic_prefix_length=self._cyclic_prefix_length,\n",
        "                                num_guard_carriers=self._num_guard_carriers,\n",
        "                                dc_null=self._dc_null,\n",
        "                                pilot_pattern=self._pilot_pattern,\n",
        "                                pilot_ofdm_symbol_indices=self._pilot_ofdm_symbol_indices)\n",
        "\n",
        "        # Components forming the link\n",
        "\n",
        "        # Codeword length\n",
        "        self._n = int(self._rg.num_data_symbols * self._num_bits_per_symbol)\n",
        "        # Number of information bits per codeword\n",
        "        self._k = int(self._n * self._coderate)\n",
        "\n",
        "        # OFDM channel\n",
        "        self._frequencies = subcarrier_frequencies(self._rg.fft_size, self._rg.subcarrier_spacing)\n",
        "        self._ofdm_channel = GenerateOFDMChannel(self._CIR, self._rg, normalize_channel=True)\n",
        "        self._channel_freq = ApplyOFDMChannel(add_awgn=True)\n",
        "\n",
        "        # Transmitter\n",
        "        self._binary_source = BinarySource()\n",
        "        self._encoder = LDPC5GEncoder(self._k, self._n)\n",
        "        self._mapper = Mapper(\"qam\", self._num_bits_per_symbol)\n",
        "        self._rg_mapper = ResourceGridMapper(self._rg)\n",
        "        self._zf_precoder = RZFPrecoder(self._rg, self._sm, return_effective_channel=True)\n",
        "\n",
        "        # Receiver\n",
        "        self._ls_est = LSChannelEstimator(self._rg, interpolation_type=\"lin_time_avg\")\n",
        "        self._lmmse_equ = LMMSEEqualizer(self._rg, self._sm)\n",
        "        self._demapper = Demapper(\"app\", \"qam\", self._num_bits_per_symbol)\n",
        "        self._decoder = LDPC5GDecoder(self._encoder, hard_out=True)\n",
        "        self._remove_nulled_scs = RemoveNulledSubcarriers(self._rg)\n",
        "\n",
        "    def call(self, batch_size, ebno_db):\n",
        "\n",
        "        # Transmitter\n",
        "        b = self._binary_source([self._batch_size, 1, self._num_streams_per_tx, self._k])\n",
        "        c = self._encoder(b)\n",
        "        x = self._mapper(c)\n",
        "        x_rg = self._rg_mapper(x)\n",
        "        # Generate the OFDM channel\n",
        "        h_freq = self._ofdm_channel()\n",
        "        # Precoding\n",
        "        x_rg, g = self._zf_precoder(x_rg, h_freq)\n",
        "\n",
        "        # Apply OFDM channel\n",
        "        no = ebnodb2no(ebno_db, self._num_bits_per_symbol, self._coderate, self._rg)\n",
        "        y = self._channel_freq(x_rg, h_freq, no)\n",
        "\n",
        "        # Receiver\n",
        "        h_hat, err_var = self._ls_est (y, no)\n",
        "        x_hat, no_eff = self._lmmse_equ(y, h_hat, err_var, no)\n",
        "        llr = self._demapper(x_hat, no_eff)\n",
        "        b_hat = self._decoder(llr)\n",
        "\n",
        "        return b, b_hat"
      ]
    },
    {
      "cell_type": "markdown",
      "metadata": {
        "id": "15OdNJoLtPmO"
      },
      "source": [
        "We next evaluate the setup with different $E_b/N_0$ values to obtain BLER curves."
      ]
    },
    {
      "cell_type": "code",
      "execution_count": null,
      "metadata": {
        "execution": {
          "iopub.execute_input": "2025-03-13T01:48:52.400127Z",
          "iopub.status.busy": "2025-03-13T01:48:52.399905Z",
          "iopub.status.idle": "2025-03-13T01:49:23.855650Z",
          "shell.execute_reply": "2025-03-13T01:49:23.854765Z"
        },
        "colab": {
          "base_uri": "https://localhost:8080/"
        },
        "id": "WC1tSAq9tPmP",
        "outputId": "26a07782-c588-4a32-c706-364f58b3dfe6"
      },
      "outputs": [
        {
          "output_type": "stream",
          "name": "stdout",
          "text": [
            "EbNo [dB] |        BER |       BLER |  bit errors |    num bits | block errors |  num blocks | runtime [s] |    status\n",
            "---------------------------------------------------------------------------------------------------------------------------------------\n",
            "     -7.0 | 1.2781e-01 | 1.0000e+00 |       29840 |      233472 |          128 |         128 |         7.4 |reached target block errors\n",
            "   -6.806 | 9.7352e-02 | 1.0000e+00 |       22729 |      233472 |          128 |         128 |         1.0 |reached target block errors\n",
            "   -6.611 | 6.6376e-02 | 9.4531e-01 |       15497 |      233472 |          121 |         128 |         1.0 |reached target block errors\n",
            "   -6.417 | 3.0492e-02 | 7.9688e-01 |        7119 |      233472 |          102 |         128 |         1.0 |reached target block errors\n",
            "   -6.222 | 1.1498e-02 | 4.7656e-01 |        5369 |      466944 |          122 |         256 |         2.1 |reached target block errors\n",
            "   -6.028 | 1.4813e-03 | 1.3281e-01 |        2075 |     1400832 |          102 |         768 |         6.8 |reached target block errors\n",
            "   -5.833 | 1.6177e-04 | 2.2645e-02 |        1303 |     8054784 |          100 |        4416 |        38.1 |reached target block errors\n",
            "   -5.639 | 1.4563e-05 | 3.9062e-03 |         170 |    11673600 |           25 |        6400 |        56.0 |reached max iterations\n",
            "   -5.444 | 3.5979e-06 | 6.2500e-04 |          42 |    11673600 |            4 |        6400 |        54.6 |reached max iterations\n",
            "    -5.25 | 0.0000e+00 | 0.0000e+00 |           0 |    11673600 |            0 |        6400 |        57.5 |reached max iterations\n",
            "\n",
            "Simulation stopped as no error occurred @ EbNo = -5.2 dB.\n",
            "\n"
          ]
        }
      ],
      "source": [
        "sim_params = {\"ebno_db\": np.linspace(-7, -5.25, 10),\n",
        "              \"cyclic_prefix_length\" : 0,\n",
        "              \"pilot_ofdm_symbol_indices\" : [2, 11]}\n",
        "\n",
        "batch_size = 64\n",
        "model = LinkModel(DeepMIMO_Sionna_adapter=deepmimo_sionna_adapter,\n",
        "                  carrier_frequency=dataset_t.rt_params.frequency,\n",
        "                  cyclic_prefix_length=sim_params[\"cyclic_prefix_length\"],\n",
        "                  pilot_ofdm_symbol_indices=sim_params[\"pilot_ofdm_symbol_indices\"])\n",
        "\n",
        "ber, bler = sim_ber(model,\n",
        "                    sim_params[\"ebno_db\"],\n",
        "                    batch_size=batch_size,\n",
        "                    max_mc_iter=100,\n",
        "                    num_target_block_errors=100,\n",
        "                    graph_mode=\"graph\")"
      ]
    },
    {
      "cell_type": "code",
      "execution_count": null,
      "metadata": {
        "execution": {
          "iopub.execute_input": "2025-03-13T01:49:23.859850Z",
          "iopub.status.busy": "2025-03-13T01:49:23.859631Z",
          "iopub.status.idle": "2025-03-13T01:49:24.255402Z",
          "shell.execute_reply": "2025-03-13T01:49:24.254518Z"
        },
        "colab": {
          "base_uri": "https://localhost:8080/",
          "height": 716
        },
        "id": "q5G8_EU6tPmP",
        "outputId": "8c3bffcc-d47d-4cde-9c65-0f6c984ea3cb"
      },
      "outputs": [
        {
          "output_type": "execute_result",
          "data": {
            "text/plain": [
              "[<matplotlib.lines.Line2D at 0x7929c42de3d0>]"
            ]
          },
          "metadata": {},
          "execution_count": 11
        },
        {
          "output_type": "display_data",
          "data": {
            "text/plain": [
              "<Figure size 1200x800 with 1 Axes>"
            ],
            "image/png": "[encoded data removed]"
          },
          "metadata": {}
        }
      ],
      "source": [
        "plt.figure(figsize=(12,8))\n",
        "plt.xlabel(r\"$E_b/N_0$ (dB)\")\n",
        "plt.ylabel(\"BLER\")\n",
        "plt.grid(which=\"both\")\n",
        "plt.semilogy(sim_params[\"ebno_db\"], bler)"
      ]
    },
    {
      "cell_type": "markdown",
      "metadata": {
        "id": "MY82CFF9tPmP"
      },
      "source": [
        "## DeepMIMO License and Citation\n",
        "\n",
        "A. Alkhateeb, “[DeepMIMO: A Generic Deep Learning Dataset for Millimeter Wave and Massive MIMO Applications](https://arxiv.org/pdf/1902.06435.pdf),” in Proc. of Information Theory and Applications Workshop (ITA), San Diego, CA, Feb. 2019.\n",
        "\n",
        "To use the DeepMIMO dataset, please check the license information [here](https://deepmimo.net/license/)."
      ]
    }
  ],
  "metadata": {
    "kernelspec": {
      "display_name": "Python 3",
      "language": "python",
      "name": "python3"
    },
    "language_info": {
      "codemirror_mode": {
        "name": "ipython",
        "version": 3
      },
      "file_extension": ".py",
      "mimetype": "text/x-python",
      "name": "python",
      "nbconvert_exporter": "python",
      "pygments_lexer": "ipython3",
      "version": "3.10.16"
    },
    "colab": {
      "provenance": []
    }
  },
  "nbformat": 4,
  "nbformat_minor": 0
}