{
 "cells": [
  {
   "cell_type": "markdown",
   "metadata": {},
   "source": [
    "## Discover Sionna\n",
    "\n",
    "This example notebook will guide you through the basic principles and illustrates the key features of [Sionna](https://nvlabs.github.io/sionna).\n",
    "With only a few commands, you can simulate the PHY-layer link-level performance for many 5G-compliant components, including easy visualization of the results.\n"
   ]
  },
  {
   "cell_type": "markdown",
   "metadata": {},
   "source": [
    "### Load Required Packages\n",
    "\n",
    "The Sionna python package must be [installed](https://nvlabs.github.io/sionna/installation.html)."
   ]
  },
  {
   "cell_type": "code",
   "execution_count": 1,
   "metadata": {
    "execution": {
     "iopub.execute_input": "2024-09-26T14:39:57.759834Z",
     "iopub.status.busy": "2024-09-26T14:39:57.759708Z",
     "iopub.status.idle": "2024-09-26T14:40:00.301772Z",
     "shell.execute_reply": "2024-09-26T14:40:00.301231Z"
    }
   },
   "outputs": [],
   "source": [
    "import os\n",
    "if os.getenv(\"CUDA_VISIBLE_DEVICES\") is None:\n",
    "    gpu_num = 0 # Use \"\" to use the CPU\n",
    "    os.environ[\"CUDA_VISIBLE_DEVICES\"] = f\"{gpu_num}\"\n",
    "os.environ['TF_CPP_MIN_LOG_LEVEL'] = '3'\n",
    "\n",
    "# Import Sionna\n",
    "try:\n",
    "    import sionna\n",
    "except ImportError as e:\n",
    "    # Install Sionna if package is not already installed\n",
    "    import os\n",
    "    os.system(\"pip install sionna\")\n",
    "    import sionna\n",
    "\n",
    "import numpy as np\n",
    "import tensorflow as tf\n",
    "# Avoid warnings from TensorFlow\n",
    "tf.get_logger().setLevel('ERROR')\n",
    "\n",
    "# IPython \"magic function\" for inline plots\n",
    "%matplotlib inline\n",
    "import matplotlib.pyplot as plt"
   ]
  },
  {
   "cell_type": "markdown",
   "metadata": {},
   "source": [
    "**Tip**: you can run bash commands in Jupyter via the `!` operator."
   ]
  },
  {
   "cell_type": "code",
   "execution_count": 2,
   "metadata": {
    "execution": {
     "iopub.execute_input": "2024-09-26T14:40:00.304827Z",
     "iopub.status.busy": "2024-09-26T14:40:00.304533Z",
     "iopub.status.idle": "2024-09-26T14:40:00.580782Z",
     "shell.execute_reply": "2024-09-26T14:40:00.579792Z"
    }
   },
   "outputs": [
    {
     "name": "stdout",
     "output_type": "stream",
     "text": [
      "Thu Sep 26 14:40:00 2024       \r\n",
      "+---------------------------------------------------------------------------------------+\r\n",
      "| NVIDIA-SMI 535.183.01             Driver Version: 535.183.01   CUDA Version: 12.2     |\r\n",
      "|-----------------------------------------+----------------------+----------------------+\r\n",
      "| GPU  Name                 Persistence-M | Bus-Id        Disp.A | Volatile Uncorr. ECC |\r\n",
      "| Fan  Temp   Perf          Pwr:Usage/Cap |         Memory-Usage | GPU-Util  Compute M. |\r\n",
      "|                                         |                      |               MIG M. |\r\n",
      "|=========================================+======================+======================|\r\n",
      "|   0  NVIDIA GeForce RTX 3090        Off | 00000000:01:00.0 Off |                  N/A |\r\n",
      "|  0%   48C    P2              39W / 350W |    292MiB / 24576MiB |      0%      Default |\r\n",
      "|                                         |                      |                  N/A |\r\n",
      "+-----------------------------------------+----------------------+----------------------+\r\n",
      "|   1  NVIDIA GeForce RTX 3090        Off | 00000000:4D:00.0 Off |                  N/A |\r\n",
      "| 30%   42C    P8              23W / 350W |      3MiB / 24576MiB |      0%      Default |\r\n",
      "|                                         |                      |                  N/A |\r\n",
      "+-----------------------------------------+----------------------+----------------------+\r\n",
      "                                                                                         \r\n",
      "+---------------------------------------------------------------------------------------+\r\n",
      "| Processes:                                                                            |\r\n",
      "|  GPU   GI   CI        PID   Type   Process name                            GPU Memory |\r\n",
      "|        ID   ID                                                             Usage      |\r\n",
      "|=======================================================================================|\r\n",
      "+---------------------------------------------------------------------------------------+\r\n"
     ]
    }
   ],
   "source": [
    "!nvidia-smi"
   ]
  },
  {
   "cell_type": "markdown",
   "metadata": {},
   "source": [
    "In case multiple GPUs are available, we restrict this notebook to single-GPU usage. You can ignore this command if only one GPU is available.\n",
    "\n",
    "Further, we want to avoid that this notebook instantiates the whole GPU memory when initialized and set `memory_growth` as active.\n",
    "\n",
    "*Remark*: Sionna does not require a GPU. Everything can also run on your CPU - but you may need to wait a little longer."
   ]
  },
  {
   "cell_type": "code",
   "execution_count": 3,
   "metadata": {
    "execution": {
     "iopub.execute_input": "2024-09-26T14:40:00.584413Z",
     "iopub.status.busy": "2024-09-26T14:40:00.584129Z",
     "iopub.status.idle": "2024-09-26T14:40:00.590376Z",
     "shell.execute_reply": "2024-09-26T14:40:00.589592Z"
    }
   },
   "outputs": [
    {
     "name": "stdout",
     "output_type": "stream",
     "text": [
      "Number of GPUs available : 1\n",
      "Only GPU number 0 used.\n"
     ]
    }
   ],
   "source": [
    "# Configure the notebook to use only a single GPU and allocate only as much memory as needed\n",
    "# For more details, see https://www.tensorflow.org/guide/gpu\n",
    "gpus = tf.config.list_physical_devices('GPU')\n",
    "print('Number of GPUs available :', len(gpus))\n",
    "if gpus:\n",
    "    gpu_num = 0 # Index of the GPU to be used\n",
    "    try:\n",
    "        #tf.config.set_visible_devices([], 'GPU')\n",
    "        tf.config.set_visible_devices(gpus[gpu_num], 'GPU')\n",
    "        print('Only GPU number', gpu_num, 'used.')\n",
    "        tf.config.experimental.set_memory_growth(gpus[gpu_num], True)\n",
    "    except RuntimeError as e:\n",
    "        print(e)"
   ]
  },
  {
   "cell_type": "markdown",
   "metadata": {},
   "source": [
    "### Sionna Data-flow and Design Paradigms\n",
    "\n",
    "Sionna inherently parallelizes simulations via *batching*, i.e., each element in the batch dimension is simulated independently.\n",
    "\n",
    "This means the first tensor dimension is always used for *inter-frame* parallelization similar to an outer *for-loop* in Matlab/NumPy simulations.\n",
    "\n",
    "To keep the dataflow efficient, Sionna follows a few simple design principles:\n",
    "\n",
    "* Signal-processing components are implemented as an individual [Keras layer](https://keras.io/api/layers/).\n",
    "* `tf.float32` is used as preferred datatype and `tf.complex64` for complex-valued datatypes, respectively.  \n",
    "This allows simpler re-use of components (e.g., the same scrambling layer can be used for binary inputs and LLR-values).\n",
    "* Models can be developed in *eager mode* allowing simple (and fast) modification of system parameters.\n",
    "* Number crunching simulations can be executed in the faster *graph mode* or even *XLA* acceleration is available for most components.\n",
    "* Whenever possible, components are automatically differentiable via [auto-grad](https://www.tensorflow.org/guide/autodiff) to simplify the deep learning design-flow.\n",
    "* Code is structured into sub-packages for different tasks such as channel coding, mapping,... (see [API documentation](https://nvlabs.github.io/sionna/api/sionna.html) for details).\n",
    "\n",
    "The division into individual blocks simplifies deployment and all layers and functions comes with unittests to ensure their correct behavior.\n",
    "\n",
    "These paradigms simplify the re-useability and reliability of our components for\n",
    "a wide range of communications related applications.\n",
    "\n",
    "### A note on random number generation\n",
    "When Sionna is loaded, it instantiates random number generators (RNGs) for [Python](https://docs.python.org/3/library/random.html#alternative-generator),\n",
    "[NumPy](https://numpy.org/doc/stable/reference/random/generator.html), and [TensorFlow](https://www.tensorflow.org/api_docs/python/tf/random/Generator). You can optionally set a seed which will make all of your\n",
    "results deterministic, as long as only these RNGs are used. In the cell below,\n",
    "you can see how this seed is set and how the different RNGs can be used."
   ]
  },
  {
   "cell_type": "code",
   "execution_count": 4,
   "metadata": {
    "execution": {
     "iopub.execute_input": "2024-09-26T14:40:00.593330Z",
     "iopub.status.busy": "2024-09-26T14:40:00.593076Z",
     "iopub.status.idle": "2024-09-26T14:40:00.682436Z",
     "shell.execute_reply": "2024-09-26T14:40:00.681951Z"
    }
   },
   "outputs": [
    {
     "name": "stdout",
     "output_type": "stream",
     "text": [
      "7\n",
      "5\n",
      "tf.Tensor([2], shape=(1,), dtype=int32)\n"
     ]
    }
   ],
   "source": [
    "sionna.config.seed = 40\n",
    "\n",
    "# Python RNG - use instead of\n",
    "# import random\n",
    "# random.randint(0, 10)\n",
    "print(sionna.config.py_rng.randint(0,10))\n",
    "\n",
    "# NumPy RNG - use instead of\n",
    "# import numpy as np\n",
    "# np.random.randint(0, 10)\n",
    "print(sionna.config.np_rng.integers(0,10))\n",
    "\n",
    "# TensorFlow RNG - use instead of\n",
    "# import tensorflow as tf\n",
    "# tf.random.uniform(shape=[1], minval=0, maxval=10, dtype=tf.int32)\n",
    "print(sionna.config.tf_rng.uniform(shape=[1], minval=0, maxval=10, dtype=tf.int32))"
   ]
  },
  {
   "cell_type": "markdown",
   "metadata": {},
   "source": [
    "### Let's Get Started - The First Layers (*Eager Mode*)\n",
    "\n",
    "Every layer needs to be initialized once before it can be used.\n",
    "\n",
    "**Tip**: use the [API documentation](https://nvlabs.github.io/sionna/api/sionna.html) to find an overview of all existing components.\n",
    "\n",
    "We now want to transmit some symbols over an AWGN channel.\n",
    "First, we need to initialize the corresponding layer."
   ]
  },
  {
   "cell_type": "code",
   "execution_count": 5,
   "metadata": {
    "execution": {
     "iopub.execute_input": "2024-09-26T14:40:00.685009Z",
     "iopub.status.busy": "2024-09-26T14:40:00.684860Z",
     "iopub.status.idle": "2024-09-26T14:40:00.691764Z",
     "shell.execute_reply": "2024-09-26T14:40:00.691366Z"
    }
   },
   "outputs": [],
   "source": [
    "channel = sionna.channel.AWGN() # init AWGN channel layer"
   ]
  },
  {
   "cell_type": "markdown",
   "metadata": {},
   "source": [
    "In this first example, we want to add Gaussian noise to some given values of `x`.\n",
    "\n",
    "Remember - the first dimension is the *batch-dimension*.\n",
    "\n",
    "We simulate 2 message frames each containing 4 symbols.\n",
    "\n",
    "*Remark*: the [AWGN channel](https://nvlabs.github.io/sionna/api/channel.html#awgn) is defined to be complex-valued."
   ]
  },
  {
   "cell_type": "code",
   "execution_count": 6,
   "metadata": {
    "execution": {
     "iopub.execute_input": "2024-09-26T14:40:00.694200Z",
     "iopub.status.busy": "2024-09-26T14:40:00.694042Z",
     "iopub.status.idle": "2024-09-26T14:40:00.698845Z",
     "shell.execute_reply": "2024-09-26T14:40:00.698470Z"
    }
   },
   "outputs": [
    {
     "name": "stdout",
     "output_type": "stream",
     "text": [
      "Shape of x:  (2, 4)\n",
      "Values of x:  tf.Tensor(\n",
      "[[ 0. +0.j  1.5+0.j  1. +0.j  0. +0.j]\n",
      " [-1. +0.j  0. +0.j -2. +0.j  3. +0.j]], shape=(2, 4), dtype=complex64)\n"
     ]
    }
   ],
   "source": [
    "# define a (complex-valued) tensor to be transmitted\n",
    "x = tf.constant([[0., 1.5, 1., 0.],[-1., 0., -2, 3 ]], dtype=tf.complex64)\n",
    "\n",
    "# let's have look at the shape\n",
    "print(\"Shape of x: \", x.shape)\n",
    "print(\"Values of x: \", x)"
   ]
  },
  {
   "cell_type": "markdown",
   "metadata": {},
   "source": [
    "We want to simulate the channel at an SNR of 5 dB.\n",
    "For this, we can simply *call* the previously defined layer `channel`.\n",
    "\n",
    "If you have never used  [Keras](https://keras.io) you can think of a layer as of a function: it has an input and returns the processed output.\n",
    "\n",
    "*Remark*: Each time this cell is executed a new noise realization is drawn."
   ]
  },
  {
   "cell_type": "code",
   "execution_count": 7,
   "metadata": {
    "execution": {
     "iopub.execute_input": "2024-09-26T14:40:00.701715Z",
     "iopub.status.busy": "2024-09-26T14:40:00.701561Z",
     "iopub.status.idle": "2024-09-26T14:40:01.178389Z",
     "shell.execute_reply": "2024-09-26T14:40:01.177916Z"
    }
   },
   "outputs": [
    {
     "name": "stdout",
     "output_type": "stream",
     "text": [
      "Noisy symbols are:  tf.Tensor(\n",
      "[[-0.02095131+0.19480924j  1.3121496 +0.05868753j  0.67274046-0.13089974j\n",
      "  -0.303877  +0.19657521j]\n",
      " [-0.9967893 +0.12435442j -0.5632028 -0.14088595j -1.9711018 -0.3130482j\n",
      "   2.7371373 +0.26847288j]], shape=(2, 4), dtype=complex64)\n"
     ]
    }
   ],
   "source": [
    "ebno_db = 5\n",
    "\n",
    "# calculate noise variance from given EbNo\n",
    "no = sionna.utils.ebnodb2no(ebno_db = ebno_db,\n",
    "                            num_bits_per_symbol=2, # QPSK\n",
    "                            coderate=1) \n",
    "y = channel([x, no])\n",
    "\n",
    "print(\"Noisy symbols are: \", y)"
   ]
  },
  {
   "cell_type": "markdown",
   "metadata": {},
   "source": [
    "### Batches and Multi-dimensional Tensors\n",
    "\n",
    "Sionna natively supports multi-dimensional tensors.\n",
    "\n",
    "Most layers operate at the last dimension and can have arbitrary input shapes (preserved at output).\n",
    "\n",
    "Let us assume we want to add a CRC-24 check to 64 codewords of length 500 (e.g., different CRC per sub-carrier).\n",
    "Further, we want to parallelize the simulation over a batch of 100 samples."
   ]
  },
  {
   "cell_type": "code",
   "execution_count": 8,
   "metadata": {
    "execution": {
     "iopub.execute_input": "2024-09-26T14:40:01.181286Z",
     "iopub.status.busy": "2024-09-26T14:40:01.181117Z",
     "iopub.status.idle": "2024-09-26T14:40:02.092697Z",
     "shell.execute_reply": "2024-09-26T14:40:02.092201Z"
    }
   },
   "outputs": [
    {
     "name": "stdout",
     "output_type": "stream",
     "text": [
      "Shape of u:  (100, 64, 500)\n",
      "Shape of c:  (100, 64, 524)\n",
      "Processed bits:  3353600\n",
      "Shape of u_hat:  (100, 64, 500)\n",
      "Shape of crc_valid:  (100, 64, 1)\n",
      "Valid CRC check of first codeword:  True\n"
     ]
    }
   ],
   "source": [
    "batch_size = 100 # outer level of parallelism\n",
    "num_codewords = 64 # codewords per batch sample\n",
    "info_bit_length = 500 # info bits PER codeword\n",
    "\n",
    "source = sionna.utils.BinarySource() # yields random bits\n",
    "\n",
    "u = source([batch_size, num_codewords, info_bit_length]) # call the source layer\n",
    "print(\"Shape of u: \", u.shape)\n",
    "\n",
    "# initialize an CRC encoder with the standard compliant \"CRC24A\" polynomial\n",
    "encoder_crc = sionna.fec.crc.CRCEncoder(\"CRC24A\")\n",
    "decoder_crc = sionna.fec.crc.CRCDecoder(encoder_crc) # connect to encoder\n",
    "\n",
    "# add the CRC to the information bits u\n",
    "c = encoder_crc(u) # returns a list [c, crc_valid]\n",
    "print(\"Shape of c: \", c.shape)\n",
    "print(\"Processed bits: \", np.size(c.numpy()))\n",
    "\n",
    "# we can also verify the results\n",
    "# returns list of [info bits without CRC bits, indicator if CRC holds]\n",
    "u_hat, crc_valid = decoder_crc(c) \n",
    "print(\"Shape of u_hat: \", u_hat.shape)\n",
    "print(\"Shape of crc_valid: \", crc_valid.shape)\n",
    "\n",
    "print(\"Valid CRC check of first codeword: \", crc_valid.numpy()[0,0,0])"
   ]
  },
  {
   "cell_type": "markdown",
   "metadata": {},
   "source": [
    "We want to do another simulation but for 5 independent users.\n",
    "\n",
    "Instead of defining 5 different tensors, we can simply add another dimension."
   ]
  },
  {
   "cell_type": "code",
   "execution_count": 9,
   "metadata": {
    "execution": {
     "iopub.execute_input": "2024-09-26T14:40:02.095543Z",
     "iopub.status.busy": "2024-09-26T14:40:02.095372Z",
     "iopub.status.idle": "2024-09-26T14:40:02.155568Z",
     "shell.execute_reply": "2024-09-26T14:40:02.155056Z"
    }
   },
   "outputs": [
    {
     "name": "stdout",
     "output_type": "stream",
     "text": [
      "New shape of u:  (100, 5, 64, 500)\n",
      "New shape of c:  (100, 5, 64, 524)\n",
      "Processed bits:  16768000\n"
     ]
    }
   ],
   "source": [
    "num_users = 5\n",
    "\n",
    "u = source([batch_size, num_users, num_codewords, info_bit_length]) \n",
    "print(\"New shape of u: \", u.shape)\n",
    "\n",
    "# We can re-use the same encoder as before\n",
    "c = encoder_crc(u)\n",
    "print(\"New shape of c: \", c.shape)\n",
    "print(\"Processed bits: \", np.size(c.numpy()))"
   ]
  },
  {
   "cell_type": "markdown",
   "metadata": {},
   "source": [
    "Often a good visualization of results helps to get new research ideas.\n",
    "Thus, Sionna has built-in plotting functions.\n",
    "\n",
    "Let's have look at a 16-QAM constellation."
   ]
  },
  {
   "cell_type": "code",
   "execution_count": 10,
   "metadata": {
    "execution": {
     "iopub.execute_input": "2024-09-26T14:40:02.158168Z",
     "iopub.status.busy": "2024-09-26T14:40:02.157999Z",
     "iopub.status.idle": "2024-09-26T14:40:02.398501Z",
     "shell.execute_reply": "2024-09-26T14:40:02.398011Z"
    }
   },
   "outputs": [
    {
     "data": {
      "image/png": "[encoded data removed]",
      "text/plain": [
       "<Figure size 700x700 with 1 Axes>"
      ]
     },
     "metadata": {},
     "output_type": "display_data"
    }
   ],
   "source": [
    "constellation = sionna.mapping.Constellation(\"qam\", num_bits_per_symbol=4)\n",
    "constellation.show();"
   ]
  },
  {
   "cell_type": "markdown",
   "metadata": {},
   "source": [
    "### First Link-level Simulation\n",
    "\n",
    "We can already build powerful code with a few simple commands.\n",
    "\n",
    "As mentioned earlier, Sionna aims at hiding system complexity into Keras layers.\n",
    "However, we still want to provide as much flexibility as possible.\n",
    "Thus, most layers have several choices of init parameters, but often the default choice is a good start.\n",
    "\n",
    "**Tip**: the [API documentation](https://nvlabs.github.io/sionna/api/sionna.html) provides many helpful references and implementation details."
   ]
  },
  {
   "cell_type": "code",
   "execution_count": 11,
   "metadata": {
    "execution": {
     "iopub.execute_input": "2024-09-26T14:40:02.400235Z",
     "iopub.status.busy": "2024-09-26T14:40:02.400084Z",
     "iopub.status.idle": "2024-09-26T14:40:02.402716Z",
     "shell.execute_reply": "2024-09-26T14:40:02.402294Z"
    }
   },
   "outputs": [],
   "source": [
    "# system parameters\n",
    "n_ldpc = 500 # LDPC codeword length \n",
    "k_ldpc = 250 # number of info bits per LDPC codeword\n",
    "coderate = k_ldpc / n_ldpc\n",
    "num_bits_per_symbol = 4 # number of bits mapped to one symbol (cf. QAM)"
   ]
  },
  {
   "cell_type": "markdown",
   "metadata": {},
   "source": [
    "Often, several different algorithms are implemented, e.g., the demapper supports  *\"true app\"* demapping, but also *\"max-log\"* demapping.\n",
    "\n",
    "The check-node (CN) update function of the LDPC BP decoder also supports multiple algorithms."
   ]
  },
  {
   "cell_type": "code",
   "execution_count": 12,
   "metadata": {
    "execution": {
     "iopub.execute_input": "2024-09-26T14:40:02.404242Z",
     "iopub.status.busy": "2024-09-26T14:40:02.404105Z",
     "iopub.status.idle": "2024-09-26T14:40:02.406271Z",
     "shell.execute_reply": "2024-09-26T14:40:02.405858Z"
    }
   },
   "outputs": [],
   "source": [
    "demapping_method = \"app\" # try \"max-log\"\n",
    "ldpc_cn_type = \"boxplus\" # try also \"minsum\""
   ]
  },
  {
   "cell_type": "markdown",
   "metadata": {},
   "source": [
    "Let us initialize all required components for the given system parameters."
   ]
  },
  {
   "cell_type": "code",
   "execution_count": 13,
   "metadata": {
    "execution": {
     "iopub.execute_input": "2024-09-26T14:40:02.407738Z",
     "iopub.status.busy": "2024-09-26T14:40:02.407608Z",
     "iopub.status.idle": "2024-09-26T14:40:02.442595Z",
     "shell.execute_reply": "2024-09-26T14:40:02.442103Z"
    }
   },
   "outputs": [],
   "source": [
    "binary_source = sionna.utils.BinarySource()\n",
    "encoder = sionna.fec.ldpc.encoding.LDPC5GEncoder(k_ldpc, n_ldpc)\n",
    "constellation = sionna.mapping.Constellation(\"qam\", num_bits_per_symbol)\n",
    "mapper = sionna.mapping.Mapper(constellation=constellation)\n",
    "channel = sionna.channel.AWGN()\n",
    "demapper = sionna.mapping.Demapper(demapping_method,\n",
    "                                   constellation=constellation)\n",
    "decoder = sionna.fec.ldpc.decoding.LDPC5GDecoder(encoder,\n",
    "                                                 hard_out=True, cn_type=ldpc_cn_type,\n",
    "                                                 num_iter=20)"
   ]
  },
  {
   "cell_type": "markdown",
   "metadata": {},
   "source": [
    "We can now run the code in *eager mode*. This allows us to modify the structure at any time - you can try a different `batch_size` or a different SNR `ebno_db`."
   ]
  },
  {
   "cell_type": "code",
   "execution_count": 14,
   "metadata": {
    "execution": {
     "iopub.execute_input": "2024-09-26T14:40:02.444459Z",
     "iopub.status.busy": "2024-09-26T14:40:02.444316Z",
     "iopub.status.idle": "2024-09-26T14:40:05.403390Z",
     "shell.execute_reply": "2024-09-26T14:40:05.402878Z"
    }
   },
   "outputs": [
    {
     "name": "stdout",
     "output_type": "stream",
     "text": [
      "Shape before encoding:  (1000, 250)\n",
      "Shape after encoding:  (1000, 500)\n",
      "Shape after mapping:  (1000, 125)\n",
      "Shape after channel:  (1000, 125)\n",
      "Shape after demapping:  (1000, 500)\n",
      "Shape after decoding:  (1000, 250)\n",
      "BER uncoded = 0.119 at EbNo = 4.0 dB\n",
      "BER after decoding = 0.008 at EbNo = 4.0 dB\n",
      "In total 250000 bits were simulated\n"
     ]
    }
   ],
   "source": [
    "# simulation parameters\n",
    "batch_size = 1000\n",
    "ebno_db = 4\n",
    "\n",
    "# Generate a batch of random bit vectors\n",
    "b = binary_source([batch_size, k_ldpc])\n",
    "\n",
    "# Encode the bits using 5G LDPC code\n",
    "print(\"Shape before encoding: \", b.shape)\n",
    "c = encoder(b)\n",
    "print(\"Shape after encoding: \", c.shape)\n",
    "\n",
    "# Map bits to constellation symbols\n",
    "x = mapper(c)\n",
    "print(\"Shape after mapping: \", x.shape)\n",
    "\n",
    "# Transmit over an AWGN channel at SNR 'ebno_db'\n",
    "no = sionna.utils.ebnodb2no(ebno_db, num_bits_per_symbol, coderate)\n",
    "y = channel([x, no])\n",
    "print(\"Shape after channel: \", y.shape)\n",
    "\n",
    "# Demap to LLRs\n",
    "llr = demapper([y, no])\n",
    "print(\"Shape after demapping: \", llr.shape)\n",
    "\n",
    "# LDPC decoding using 20 BP iterations\n",
    "b_hat = decoder(llr)\n",
    "print(\"Shape after decoding: \", b_hat.shape)\n",
    "\n",
    "# calculate BERs\n",
    "c_hat = tf.cast(tf.less(0.0, llr), tf.float32) # hard-decided bits before dec.\n",
    "ber_uncoded = sionna.utils.metrics.compute_ber(c, c_hat)\n",
    "\n",
    "ber_coded = sionna.utils.metrics.compute_ber(b, b_hat)\n",
    "\n",
    "print(\"BER uncoded = {:.3f} at EbNo = {:.1f} dB\".format(ber_uncoded, ebno_db))\n",
    "print(\"BER after decoding = {:.3f} at EbNo = {:.1f} dB\".format(ber_coded, ebno_db))\n",
    "print(\"In total {} bits were simulated\".format(np.size(b.numpy())))"
   ]
  },
  {
   "cell_type": "markdown",
   "metadata": {},
   "source": [
    "Just to summarize: we have simulated the transmission of 250,000 bits including higher-order modulation and channel coding!\n",
    "\n",
    "But we can go even faster with the *TF graph execution*!"
   ]
  },
  {
   "cell_type": "markdown",
   "metadata": {},
   "source": [
    "### Setting up the End-to-end Model\n",
    "\n",
    "We now define a *Keras model* that is more convenient for training and Monte-Carlo simulations.\n",
    "\n",
    "We simulate the transmission over a time-varying multi-path channel (the *TDL-A* model from 3GPP TR38.901).\n",
    "For this, OFDM and a *conventional* bit-interleaved coded modulation (BICM) scheme with higher order modulation is used.\n",
    "The information bits are protected by a 5G-compliant LDPC code.\n",
    "\n",
    "*Remark*: Due to the large number of parameters, we define them as dictionary."
   ]
  },
  {
   "cell_type": "code",
   "execution_count": 15,
   "metadata": {
    "execution": {
     "iopub.execute_input": "2024-09-26T14:40:05.406392Z",
     "iopub.status.busy": "2024-09-26T14:40:05.406224Z",
     "iopub.status.idle": "2024-09-26T14:40:05.415895Z",
     "shell.execute_reply": "2024-09-26T14:40:05.415486Z"
    }
   },
   "outputs": [],
   "source": [
    "class e2e_model(tf.keras.Model): # inherits from keras.model\n",
    "    \"\"\"Example model for end-to-end link-level simulations.\n",
    "    \n",
    "    Parameters\n",
    "    ----------\n",
    "    params: dict\n",
    "        A dictionary defining the system parameters.\n",
    "    \n",
    "    Input\n",
    "    -----\n",
    "    batch_size: int or tf.int\n",
    "        The batch_sizeused for the simulation.\n",
    "        \n",
    "    ebno_db: float or tf.float\n",
    "        A float defining the simulation SNR.\n",
    "\n",
    "    Output\n",
    "    ------\n",
    "    (b, b_hat): \n",
    "        Tuple:\n",
    "    \n",
    "    b: tf.float32\n",
    "        A tensor of shape `[batch_size, k]` containing the transmitted\n",
    "        information bits.\n",
    "\n",
    "    b_hat: tf.float32\n",
    "        A tensor of shape `[batch_size, k]` containing the receiver's\n",
    "        estimate of the transmitted information bits.\n",
    "    \"\"\"\n",
    "    def __init__(self,\n",
    "                params):\n",
    "        super().__init__()       \n",
    "\n",
    "        \n",
    "        # Define an OFDM Resource Grid Object\n",
    "        self.rg = sionna.ofdm.ResourceGrid(\n",
    "                            num_ofdm_symbols=params[\"num_ofdm_symbols\"],\n",
    "                            fft_size=params[\"fft_size\"],\n",
    "                            subcarrier_spacing=params[\"subcarrier_spacing\"],\n",
    "                            num_tx=1,\n",
    "                            num_streams_per_tx=1,\n",
    "                            cyclic_prefix_length=params[\"cyclic_prefix_length\"],\n",
    "                            pilot_pattern=\"kronecker\",\n",
    "                            pilot_ofdm_symbol_indices=params[\"pilot_ofdm_symbol_indices\"])\n",
    "              \n",
    "        # Create a Stream Management object        \n",
    "        self.sm = sionna.mimo.StreamManagement(rx_tx_association=np.array([[1]]),\n",
    "                                               num_streams_per_tx=1)\n",
    "        \n",
    "        self.coderate = params[\"coderate\"]\n",
    "        self.num_bits_per_symbol = params[\"num_bits_per_symbol\"]\n",
    "        self.n = int(self.rg.num_data_symbols*self.num_bits_per_symbol) \n",
    "        self.k = int(self.n*coderate)         \n",
    "\n",
    "        # Init layers\n",
    "        self.binary_source = sionna.utils.BinarySource()\n",
    "        self.encoder = sionna.fec.ldpc.encoding.LDPC5GEncoder(self.k, self.n)\n",
    "        self.interleaver = sionna.fec.interleaving.RowColumnInterleaver(\n",
    "                                        row_depth=self.num_bits_per_symbol)\n",
    "        self.deinterleaver = sionna.fec.interleaving.Deinterleaver(self.interleaver)\n",
    "        self.mapper = sionna.mapping.Mapper(\"qam\", self.num_bits_per_symbol)\n",
    "        self.rg_mapper = sionna.ofdm.ResourceGridMapper(self.rg)\n",
    "        self.tdl = sionna.channel.tr38901.TDL(model=\"A\",\n",
    "                           delay_spread=params[\"delay_spread\"],\n",
    "                           carrier_frequency=params[\"carrier_frequency\"],\n",
    "                           min_speed=params[\"min_speed\"],\n",
    "                           max_speed=params[\"max_speed\"])\n",
    "        \n",
    "        self.channel = sionna.channel.OFDMChannel(self.tdl, self.rg, add_awgn=True, normalize_channel=True)\n",
    "        self.ls_est = sionna.ofdm.LSChannelEstimator(self.rg, interpolation_type=\"nn\")\n",
    "        self.lmmse_equ = sionna.ofdm.LMMSEEqualizer(self.rg, self.sm)\n",
    "        self.demapper = sionna.mapping.Demapper(params[\"demapping_method\"],\n",
    "                                                \"qam\", self.num_bits_per_symbol)\n",
    "        self.decoder = sionna.fec.ldpc.decoding.LDPC5GDecoder(self.encoder,\n",
    "                                                    hard_out=True,\n",
    "                                                    cn_type=params[\"cn_type\"],\n",
    "                                                    num_iter=params[\"bp_iter\"])\n",
    "\n",
    "        print(\"Number of pilots: {}\".format(self.rg.num_pilot_symbols))        \n",
    "        print(\"Number of data symbols: {}\".format(self.rg.num_data_symbols))\n",
    "        print(\"Number of resource elements: {}\".format(\n",
    "                                    self.rg.num_resource_elements))\n",
    "\n",
    "        print(\"Pilot overhead: {:.2f}%\".format(\n",
    "                                    self.rg.num_pilot_symbols /\n",
    "                                    self.rg.num_resource_elements*100))\n",
    "\n",
    "        print(\"Cyclic prefix overhead: {:.2f}%\".format(\n",
    "                                    params[\"cyclic_prefix_length\"] /\n",
    "                                    (params[\"cyclic_prefix_length\"]\n",
    "                                    +params[\"fft_size\"])*100))\n",
    "\n",
    "        print(\"Each frame contains {} information bits\".format(self.k))\n",
    "   \n",
    "    def call(self, batch_size, ebno_db):\n",
    "        \n",
    "        # Generate a batch of random bit vectors\n",
    "        # We need two dummy dimension representing the number of\n",
    "        # transmitters and streams per transmitter, respectively.\n",
    "        b = self.binary_source([batch_size, 1, 1, self.k])\n",
    "\n",
    "        # Encode the bits using the all-zero dummy encoder\n",
    "        c = self.encoder(b)\n",
    "\n",
    "        # Interleave the bits before mapping (BICM)\n",
    "        c_int = self.interleaver(c)\n",
    "        \n",
    "        # Map bits to constellation symbols\n",
    "        s = self.mapper(c_int)\n",
    "\n",
    "        # Map symbols onto OFDM ressource grid\n",
    "        x_rg = self.rg_mapper(s)\n",
    "\n",
    "        # Transmit over noisy multi-path channel \n",
    "        no = sionna.utils.ebnodb2no(ebno_db, self.num_bits_per_symbol, self.coderate, self.rg)\n",
    "        y = self.channel([x_rg, no]) \n",
    "        \n",
    "        # LS Channel estimation with nearest pilot interpolation\n",
    "        h_hat, err_var = self.ls_est ([y, no])\n",
    "\n",
    "        # LMMSE Equalization\n",
    "        x_hat, no_eff = self.lmmse_equ([y, h_hat, err_var, no])\n",
    "\n",
    "        # Demap to LLRs\n",
    "        llr = self.demapper([x_hat, no_eff])\n",
    "\n",
    "        # Deinterleave before decoding\n",
    "        llr_int = self.deinterleaver(llr)\n",
    "\n",
    "        # Decode\n",
    "        b_hat = self.decoder(llr_int) \n",
    "        \n",
    "        # number of simulated bits\n",
    "        nb_bits = batch_size*self.k\n",
    "        \n",
    "        # transmitted bits and the receiver's estimate after decoding\n",
    "        return b, b_hat"
   ]
  },
  {
   "cell_type": "markdown",
   "metadata": {},
   "source": [
    "Let us define the system parameters for our simulation as dictionary:"
   ]
  },
  {
   "cell_type": "code",
   "execution_count": 16,
   "metadata": {
    "execution": {
     "iopub.execute_input": "2024-09-26T14:40:05.418373Z",
     "iopub.status.busy": "2024-09-26T14:40:05.418217Z",
     "iopub.status.idle": "2024-09-26T14:40:05.421165Z",
     "shell.execute_reply": "2024-09-26T14:40:05.420763Z"
    }
   },
   "outputs": [],
   "source": [
    "sys_params = {\n",
    "    # Channel\n",
    "    \"carrier_frequency\" : 3.5e9,\n",
    "    \"delay_spread\" : 100e-9,\n",
    "    \"min_speed\" : 3,\n",
    "    \"max_speed\" : 3,\n",
    "    \"tdl_model\" : \"A\",\n",
    "\n",
    "    # OFDM\n",
    "    \"fft_size\" : 256,\n",
    "    \"subcarrier_spacing\" : 30e3,\n",
    "    \"num_ofdm_symbols\" : 14,\n",
    "    \"cyclic_prefix_length\" : 16,\n",
    "    \"pilot_ofdm_symbol_indices\" : [2, 11],\n",
    "\n",
    "    # Code & Modulation\n",
    "    \"coderate\" : 0.5,\n",
    "    \"num_bits_per_symbol\" : 4,\n",
    "    \"demapping_method\" : \"app\",\n",
    "    \"cn_type\" : \"boxplus\",\n",
    "    \"bp_iter\" : 20\n",
    "}"
   ]
  },
  {
   "cell_type": "markdown",
   "metadata": {},
   "source": [
    "...and initialize the model:"
   ]
  },
  {
   "cell_type": "code",
   "execution_count": 17,
   "metadata": {
    "execution": {
     "iopub.execute_input": "2024-09-26T14:40:05.423919Z",
     "iopub.status.busy": "2024-09-26T14:40:05.423765Z",
     "iopub.status.idle": "2024-09-26T14:40:05.921395Z",
     "shell.execute_reply": "2024-09-26T14:40:05.920764Z"
    }
   },
   "outputs": [
    {
     "name": "stdout",
     "output_type": "stream",
     "text": [
      "Number of pilots: 512\n",
      "Number of data symbols: 3072\n",
      "Number of resource elements: 3584\n",
      "Pilot overhead: 14.29%\n",
      "Cyclic prefix overhead: 5.88%\n",
      "Each frame contains 6144 information bits\n"
     ]
    }
   ],
   "source": [
    "model = e2e_model(sys_params)"
   ]
  },
  {
   "cell_type": "markdown",
   "metadata": {},
   "source": [
    "As before, we can simply *call* the model to simulate the BER for the given simulation parameters."
   ]
  },
  {
   "cell_type": "code",
   "execution_count": 18,
   "metadata": {
    "execution": {
     "iopub.execute_input": "2024-09-26T14:40:05.923127Z",
     "iopub.status.busy": "2024-09-26T14:40:05.922980Z",
     "iopub.status.idle": "2024-09-26T14:40:07.068180Z",
     "shell.execute_reply": "2024-09-26T14:40:07.067606Z"
    }
   },
   "outputs": [
    {
     "name": "stdout",
     "output_type": "stream",
     "text": [
      "BER: 0.001245 at Eb/No of 10 dB and 1228800 simulated bits\n"
     ]
    }
   ],
   "source": [
    "#simulation parameters\n",
    "ebno_db = 10\n",
    "batch_size = 200\n",
    "\n",
    "# and call the model\n",
    "b, b_hat = model(batch_size, ebno_db)\n",
    "\n",
    "ber = sionna.utils.metrics.compute_ber(b, b_hat)\n",
    "nb_bits = np.size(b.numpy())\n",
    "\n",
    "print(\"BER: {:.4} at Eb/No of {} dB and {} simulated bits\".format(ber.numpy(), ebno_db, nb_bits))"
   ]
  },
  {
   "cell_type": "markdown",
   "metadata": {},
   "source": [
    "### Run some Throughput Tests (Graph Mode)\n",
    "\n",
    "Sionna is not just an easy-to-use library, but also incredibly fast.\n",
    "Let us measure the throughput of the model defined above.\n",
    "\n",
    "We compare *eager* and *graph* execution modes (see [Tensorflow Doc](https://www.tensorflow.org/guide/intro_to_graphs) for details), as well\n",
    "as *eager with XLA* (see https://www.tensorflow.org/xla#enable_xla_for_tensorflow_models).\n",
    "Note that we need to activate the [sionna.config.xla_compat](https://nvlabs.github.io/sionna/api/config.html#sionna.Config.xla_compat) feature for XLA to work.\n",
    "\n",
    "\n",
    "**Tip**: change the `batch_size` to see how the batch parallelism enhances the throughput.\n",
    "Depending on your machine, the `batch_size` may be too large."
   ]
  },
  {
   "cell_type": "code",
   "execution_count": 19,
   "metadata": {
    "execution": {
     "iopub.execute_input": "2024-09-26T14:40:07.070898Z",
     "iopub.status.busy": "2024-09-26T14:40:07.070731Z",
     "iopub.status.idle": "2024-09-26T14:40:29.293902Z",
     "shell.execute_reply": "2024-09-26T14:40:29.293020Z"
    }
   },
   "outputs": [
    {
     "name": "stdout",
     "output_type": "stream",
     "text": [
      "XLA can lead to reduced numerical precision. Use with care.\n",
      "Throughput in eager execution: 1.56 Mb/s\n",
      "Throughput in graph execution: 7.76 Mb/s\n",
      "Throughput in graph execution with XLA: 57.66 Mb/s\n"
     ]
    },
    {
     "name": "stderr",
     "output_type": "stream",
     "text": [
      "WARNING: All log messages before absl::InitializeLog() is called are written to STDERR\n",
      "I0000 00:00:1727361629.171516  312981 device_compiler.h:186] Compiled cluster using XLA!  This line is logged at most once for the lifetime of the process.\n"
     ]
    }
   ],
   "source": [
    "import time # this block requires the timeit library\n",
    "\n",
    "batch_size = 200\n",
    "ebno_db = 5 # evalaute SNR point\n",
    "repetitions = 4 # throughput is averaged over multiple runs\n",
    "\n",
    "def get_throughput(batch_size, ebno_db, model, repetitions=1):\n",
    "    \"\"\" Simulate throughput in bit/s per ebno_db point.\n",
    "    \n",
    "    The results are average over `repetition` trials.\n",
    "    \n",
    "    Input\n",
    "    -----\n",
    "    batch_size: int or tf.int32\n",
    "        Batch-size for evaluation.\n",
    "\n",
    "    ebno_db: float or tf.float32\n",
    "        A tensor containing the SNR points be evaluated    \n",
    "    \n",
    "    model:\n",
    "        Function or model that yields the transmitted bits `u` and the\n",
    "        receiver's estimate `u_hat` for a given ``batch_size`` and\n",
    "        ``ebno_db``.\n",
    "        \n",
    "    repetitions: int\n",
    "        An integer defining how many trails of the throughput \n",
    "        simulation are averaged.\n",
    "    \n",
    "    \"\"\"\n",
    "\n",
    "\n",
    "    # call model once to be sure it is compile properly \n",
    "    # otherwise time to build graph is measured as well.\n",
    "    u, u_hat = model(tf.constant(batch_size, tf.int32),    \n",
    "                     tf.constant(ebno_db, tf.float32))\n",
    "\n",
    "    t_start = time.perf_counter()\n",
    "    # average over multiple runs\n",
    "    for _ in range(repetitions):\n",
    "        u, u_hat = model(tf.constant(batch_size, tf.int32),\n",
    "                            tf.constant(ebno_db, tf. float32))\n",
    "    t_stop = time.perf_counter()\n",
    "\n",
    "    # throughput in bit/s\n",
    "    throughput = np.size(u.numpy())*repetitions / (t_stop - t_start)\n",
    "\n",
    "    return throughput\n",
    "\n",
    "# eager mode - just call the model\n",
    "def run_eager(batch_size, ebno_db):\n",
    "    return model(batch_size, ebno_db)\n",
    "    \n",
    "time_eager = get_throughput(batch_size, ebno_db, run_eager, repetitions=4)\n",
    "\n",
    "# the decorator \"@tf.function\" enables the graph mode\n",
    "@tf.function\n",
    "def run_graph(batch_size, ebno_db):\n",
    "    return model(batch_size, ebno_db)\n",
    "\n",
    "time_graph = get_throughput(batch_size, ebno_db, run_graph, repetitions=4)\n",
    "\n",
    "# the decorator \"@tf.function(jit_compile=True)\" enables the graph mode with XLA\n",
    "# we need to activate the sionna.config.xla_compat feature for this to work\n",
    "sionna.config.xla_compat=True\n",
    "@tf.function(jit_compile=True)\n",
    "def run_graph_xla(batch_size, ebno_db):\n",
    "    return model(batch_size, ebno_db)\n",
    "\n",
    "time_graph_xla = get_throughput(batch_size, ebno_db, run_graph_xla, repetitions=4)\n",
    "# we deactivate the sionna.config.xla_compat so that the cell can be run mutiple times\n",
    "sionna.config.xla_compat=False\n",
    "\n",
    "print(f\"Throughput in eager execution: {time_eager/1e6:.2f} Mb/s\")\n",
    "print(f\"Throughput in graph execution: {time_graph/1e6:.2f} Mb/s\")\n",
    "print(f\"Throughput in graph execution with XLA: {time_graph_xla/1e6:.2f} Mb/s\")"
   ]
  },
  {
   "cell_type": "markdown",
   "metadata": {},
   "source": [
    "Obviously, *graph* execution (with XLA) yields much higher throughputs (at least if a fast GPU is available).\n",
    "Thus, for exhaustive training and Monte-Carlo simulations the *graph* mode (with XLA and GPU acceleration) is the preferred choice."
   ]
  },
  {
   "cell_type": "markdown",
   "metadata": {},
   "source": [
    "### Bit-Error Rate (BER) Monte-Carlo Simulations\n",
    "\n",
    "Monte-Carlo simulations are omnipresent in todays communications research and development.\n",
    "Due its performant implementation, Sionna can be directly used to simulate BER at a performance that competes with compiled languages -- but still keeps the flexibility of a script language."
   ]
  },
  {
   "cell_type": "code",
   "execution_count": 20,
   "metadata": {
    "execution": {
     "iopub.execute_input": "2024-09-26T14:40:29.296824Z",
     "iopub.status.busy": "2024-09-26T14:40:29.296676Z",
     "iopub.status.idle": "2024-09-26T14:41:50.129880Z",
     "shell.execute_reply": "2024-09-26T14:41:50.129161Z"
    }
   },
   "outputs": [
    {
     "name": "stdout",
     "output_type": "stream",
     "text": [
      "XLA can lead to reduced numerical precision. Use with care.\n",
      "EbNo [dB] |        BER |       BLER |  bit errors |    num bits | block errors |  num blocks | runtime [s] |    status\n",
      "---------------------------------------------------------------------------------------------------------------------------------------\n",
      "      0.0 | 3.4352e-01 | 1.0000e+00 |     1266347 |     3686400 |          600 |         600 |         0.1 |reached target block errors\n",
      "      1.0 | 3.2095e-01 | 1.0000e+00 |     1183166 |     3686400 |          600 |         600 |         0.1 |reached target block errors\n",
      "      2.0 | 2.9738e-01 | 1.0000e+00 |     1096268 |     3686400 |          600 |         600 |         0.1 |reached target block errors\n",
      "      3.0 | 2.7369e-01 | 1.0000e+00 |     1008918 |     3686400 |          600 |         600 |         0.1 |reached target block errors\n",
      "      4.0 | 2.4703e-01 | 1.0000e+00 |      910649 |     3686400 |          600 |         600 |         0.1 |reached target block errors\n",
      "      5.0 | 2.1839e-01 | 1.0000e+00 |      805067 |     3686400 |          600 |         600 |         0.1 |reached target block errors\n",
      "      6.0 | 1.8570e-01 | 1.0000e+00 |      684560 |     3686400 |          600 |         600 |         0.1 |reached target block errors\n",
      "      7.0 | 1.1760e-01 | 9.9167e-01 |      433539 |     3686400 |          595 |         600 |         0.1 |reached target block errors\n",
      "      8.0 | 4.2571e-02 | 4.7833e-01 |      313870 |     7372800 |          574 |        1200 |         0.2 |reached target block errors\n",
      "      9.0 | 1.3462e-02 | 1.5206e-01 |      281220 |    20889600 |          517 |        3400 |         0.4 |reached target block errors\n",
      "     10.0 | 3.3929e-03 | 3.5352e-02 |      296011 |    87244800 |          502 |       14200 |         1.8 |reached target block errors\n",
      "     11.0 | 8.4720e-04 | 9.1758e-03 |      284203 |   335462400 |          501 |       54600 |         6.8 |reached target block errors\n",
      "     12.0 | 2.7327e-04 | 2.9002e-03 |      289455 |  1059225600 |          500 |      172400 |        21.3 |reached target block errors\n",
      "     13.0 | 8.8057e-05 | 8.9500e-04 |      108205 |  1228800000 |          179 |      200000 |        24.5 |reached max iter       \n",
      "     14.0 | 3.4128e-05 | 3.3500e-04 |       41936 |  1228800000 |           67 |      200000 |        24.5 |reached max iter       \n"
     ]
    }
   ],
   "source": [
    "ebno_dbs = np.arange(0, 15, 1.)\n",
    "batch_size = 200 # reduce in case you receive an out-of-memory (OOM) error\n",
    "\n",
    "max_mc_iter = 1000 # max number of Monte-Carlo iterations before going to next SNR point\n",
    "num_target_block_errors = 500 # continue with next SNR point after target number of block errors\n",
    "\n",
    "# we use the built-in ber simulator function from Sionna which uses and early stop after reaching num_target_errors   \n",
    "sionna.config.xla_compat=True\n",
    "ber_mc,_ = sionna.utils.sim_ber(run_graph_xla, # you can also evaluate the model directly\n",
    "                                ebno_dbs,\n",
    "                                batch_size=batch_size, \n",
    "                                num_target_block_errors=num_target_block_errors,\n",
    "                                max_mc_iter=max_mc_iter,\n",
    "                                verbose=True) # print status and summary\n",
    "sionna.config.xla_compat=False"
   ]
  },
  {
   "cell_type": "markdown",
   "metadata": {},
   "source": [
    "Let's look at the results."
   ]
  },
  {
   "cell_type": "code",
   "execution_count": 21,
   "metadata": {
    "execution": {
     "iopub.execute_input": "2024-09-26T14:41:50.133310Z",
     "iopub.status.busy": "2024-09-26T14:41:50.133159Z",
     "iopub.status.idle": "2024-09-26T14:41:50.457219Z",
     "shell.execute_reply": "2024-09-26T14:41:50.456603Z"
    }
   },
   "outputs": [
    {
     "data": {
      "image/png": "[encoded data removed]",
      "text/plain": [
       "<Figure size 1600x1000 with 1 Axes>"
      ]
     },
     "metadata": {},
     "output_type": "display_data"
    }
   ],
   "source": [
    "sionna.utils.plotting.plot_ber(ebno_dbs,\n",
    "                               ber_mc,\n",
    "                               legend=\"E2E Model\",\n",
    "                               ylabel=\"Coded BER\");"
   ]
  },
  {
   "cell_type": "markdown",
   "metadata": {},
   "source": [
    "### Conclusion\n",
    "\n",
    "We hope you are excited about Sionna - there is much more to be discovered:\n",
    "\n",
    "- TensorBoard debugging available\n",
    "- Scaling to multi-GPU simulation is simple\n",
    "- See the [available tutorials](https://nvlabs.github.io/sionna/tutorials.html) for more advanced examples.\n",
    "\n",
    "And if something is still missing - the project is [open-source](https://github.com/nvlabs/sionna/):  you can modify, add, and extend any component at any time."
   ]
  }
 ],
 "metadata": {
  "interpreter": {
   "hash": "31f2aee4e71d21fbe5cf8b01ff0e069b9275f58929596ceb00d14d90e3e16cd6"
  },
  "kernelspec": {
   "display_name": "Python 3 (ipykernel)",
   "language": "python",
   "name": "python3"
  },
  "language_info": {
   "codemirror_mode": {
    "name": "ipython",
    "version": 3
   },
   "file_extension": ".py",
   "mimetype": "text/x-python",
   "name": "python",
   "nbconvert_exporter": "python",
   "pygments_lexer": "ipython3",
   "version": "3.10.12"
  }
 },
 "nbformat": 4,
 "nbformat_minor": 4
}
