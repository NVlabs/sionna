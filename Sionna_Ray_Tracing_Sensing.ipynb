{
 "cells": [
  {
   "cell_type": "markdown",
   "id": "2f6a8731",
   "metadata": {},
   "source": [
    "# Introduction to Sionna RT - Assets & BSDFs Configuration Tools"
   ]
  },
  {
   "cell_type": "markdown",
   "id": "f702817e",
   "metadata": {},
   "source": [
    "In this notebook, you will\n",
    "- Learn how to programaticaly append or remove assets object to a scene (without using Blender).\n",
    "- See the impact of the assets within the scene w.r.t. ray-traced channels for link-level simulations instead of stochastic channel models.\n",
    "- Learn how to define, set and change the rendering properties of a radio material in the scene using BSDF object.\n"
   ]
  },
  {
   "cell_type": "markdown",
   "id": "43f0a988",
   "metadata": {},
   "source": [
    "## Table of Contents\n",
    "* [Information On Assets](#Information-On-Assets)\n",
    "*"
   ]
  },
  {
   "cell_type": "markdown",
   "id": "2f32f3d7",
   "metadata": {},
   "source": [
    "## Information On Assets\n",
    "\n",
    "It is usefull to be able to construct a scene dynamically by adding and removing objects. To this end, Sionna incorporates a few functionalities. \n",
    "\n",
    "One can define a scene, e.g. using Blender, import the scene within Sionna and then add new assets (object or group of objects) to that scene. The assets can be separately defined in Blender. \n",
    "\n",
    "As an example, one could define a scene with a car park, and append to that scene a varing number of cars to see the impact in terms of RF propagation. Using this mechanism, the user should be able to automatically generate datasets from the scenes and/or define complex scenario.\n"
   ]
  },
  {
   "cell_type": "markdown",
   "id": "938106f2",
   "metadata": {},
   "source": [
    "## GPU Configuration and Imports <a class=\"anchor\" id=\"GPU-Configuration-and-Imports\"></a>"
   ]
  },
  {
   "cell_type": "code",
   "execution_count": null,
   "id": "98c23abd",
   "metadata": {
    "tags": []
   },
   "outputs": [],
   "source": [
    "import os\n",
    "gpu_num = 0 # Use \"\" to use the CPU\n",
    "os.environ[\"CUDA_VISIBLE_DEVICES\"] = f\"{gpu_num}\"\n",
    "os.environ['TF_CPP_MIN_LOG_LEVEL'] = '3'\n",
    "\n",
    "# Colab does currently not support the latest version of ipython.\n",
    "# Thus, the preview does not work in Colab. However, whenever possible we\n",
    "# strongly recommend to use the scene preview mode.\n",
    "try: # detect if the notebook runs in Colab\n",
    "    import google.colab\n",
    "    colab_compat = True # deactivate preview\n",
    "except:\n",
    "    colab_compat = False\n",
    "resolution = [480,320] # increase for higher quality of renderings\n",
    "\n",
    "# Allows to exit cell execution in Jupyter\n",
    "class ExitCell(Exception):\n",
    "    def _render_traceback_(self):\n",
    "        pass\n",
    "\n",
    "# Import Sionna\n",
    "try:\n",
    "    import sionna\n",
    "except ImportError as e:\n",
    "    # Install Sionna if package is not already installed\n",
    "    import os\n",
    "    os.system(\"pip install sionna\")\n",
    "\n",
    "# Configure the notebook to use only a single GPU and allocate only as much memory as needed\n",
    "# For more details, see https://www.tensorflow.org/guide/gpu\n",
    "import tensorflow as tf\n",
    "gpus = tf.config.list_physical_devices('GPU')\n",
    "if gpus:\n",
    "    try:\n",
    "        \n",
    "        tf.config.experimental.set_memory_growth(gpus[0], True)\n",
    "    except RuntimeError as e:\n",
    "        print(e)\n",
    "# Avoid warnings from TensorFlow\n",
    "tf.get_logger().setLevel('ERROR')\n",
    "\n",
    "tf.random.set_seed(1) # Set global random seed for reproducibility\n"
   ]
  },
  {
   "cell_type": "markdown",
   "id": "b20b7d49",
   "metadata": {},
   "source": [
    "# To Remove"
   ]
  },
  {
   "cell_type": "code",
   "execution_count": null,
   "id": "34147eec",
   "metadata": {
    "tags": []
   },
   "outputs": [],
   "source": [
    "%matplotlib inline\n",
    "import matplotlib.pyplot as plt\n",
    "import numpy as np\n",
    "\n",
    "# Import Sionna RT components\n",
    "from sionna.rt import load_scene, Transmitter, Receiver, PlanarArray, AssetObject, BSDF, RadioMaterial\n",
    "\n",
    "# For link-level simulations\n",
    "from sionna.channel import cir_to_time_channel"
   ]
  },
  {
   "cell_type": "markdown",
   "id": "58380340",
   "metadata": {},
   "source": [
    "## Loading Scenes\n",
    "\n",
    "The Sionna RT module can either load external scene files (in Mitsuba's XML file format) or it can load one of the [integrated scenes](https://nvlabs.github.io/sionna/api/rt.html#example-scenes).\n",
    "\n",
    "In this example, we load a scene containing a floor and a basic wall above it. The scene can be seen as a the static reference, in which one can add or remove assets. "
   ]
  },
  {
   "cell_type": "code",
   "execution_count": null,
   "id": "d66aa238",
   "metadata": {
    "tags": []
   },
   "outputs": [],
   "source": [
    "# Load scene\n",
    "scene = load_scene(filename=sionna.rt.scene.floor_wall)\n",
    "\n",
    "\n",
    "if colab_compat:\n",
    "    scene.render(camera=\"scene-cam-0\", num_samples=512);\n",
    "    raise ExitCell\n",
    "scene.preview()"
   ]
  },
  {
   "cell_type": "markdown",
   "id": "c6ec6563",
   "metadata": {},
   "source": [
    "## Load and Manage Assets\n",
    "\n",
    "In a static scene, one can add assets at various position to evaluate different scenario without having to design a dedicated scene beforehand. It should be noted, that assets are added to the scene by recreating the scene from scratch (reloading the scene). Hence, the action itself to add or remove an asset object to a scene is not differentiable, but the previous and the novel scenes preserve their differentiability properties as any scene in Sionna. This tool must be seen as a way to programmatically construct the scene, e.g. to generate many random scenes to construct a dataset for neural networks training.\n",
    "\n",
    "The actions that trigger a scene reload will be presented throughout this notebook, as well as the impact of reloading the scene.\n",
    "\n",
    "Some preloaded assets are located in sionna/rt/assets. Let's see how to load and use them.\n",
    "\n",
    "NB: As a workaround to maintain differentiability when placing an object, one could use the mobility tools from Sionna to move pre-existing objects of the scene into or out of the zone of interest of the scene. Yet, this would require to have put these objects in the scene in the first place."
   ]
  },
  {
   "cell_type": "code",
   "execution_count": null,
   "id": "48401ccd",
   "metadata": {},
   "outputs": [],
   "source": [
    "# Load an asset\n",
    "body_asset = AssetObject(name=\"asset_0\", filename=sionna.rt.asset_object.body)\n",
    "\n",
    "# Alternative call\n",
    "# body_asset = AssetObject(name=\"asset_0\", filename=\"./sionna/rt/assets/body/body.xml\")\n",
    "\n",
    "# Add the asset to the scene. Adding an AssetObject to the scene trigger a scene reload.\n",
    "print(f\"Memory address of the Scene object: {hex(id(scene))}\")\n",
    "scene.add(body_asset)\n",
    "print(f\"Memory address of the Scene object: {hex(id(scene))}\")\n",
    "\n",
    "# Preview the scene\n",
    "if colab_compat:\n",
    "    scene.render(camera=\"scene-cam-0\", num_samples=512)\n",
    "    raise ExitCell\n",
    "scene.preview()"
   ]
  },
  {
   "cell_type": "markdown",
   "id": "a66efde2",
   "metadata": {},
   "source": [
    "As it can be seen in the preview, a body has been added to the previous scene. This action triggered a scene reload.\n",
    "\n",
    "Reloading the scene does not create a new Scene object.\n",
    "\n",
    "The body can be modified in the same way as any object of the scene.\n",
    "\n",
    "It is listed in the .asset_objects method from the scene."
   ]
  },
  {
   "cell_type": "code",
   "execution_count": null,
   "id": "037a11b4",
   "metadata": {},
   "outputs": [],
   "source": [
    "# Print a dictionnary containing the assets of the scene\n",
    "print(scene.asset_objects)"
   ]
  },
  {
   "cell_type": "markdown",
   "id": "ed615dbd",
   "metadata": {},
   "source": [
    "The dictionnary contains all the assets of the scene.\n",
    "\n",
    "Our body \"asset_0\" is listed as an AssetObject. They are slightly different from others Sionna's SceneObject, as we will demonstrate in this notebook. \n",
    "\n",
    "First of all, AssetObject can be composed of several SceneObjects. Use the method .shapes to display them."
   ]
  },
  {
   "cell_type": "code",
   "execution_count": null,
   "id": "c0ac9659",
   "metadata": {},
   "outputs": [],
   "source": [
    "# Get the asset object by name as any object from the scene\n",
    "body_asset = scene.get('asset_0')\n",
    "print(f\"Check the type of the body_asset variable: {type(body_asset).__name__}\")\n",
    "\n",
    "# Print the objects (SceneObject) composing the asset (AssetObject)\n",
    "print(f\"{body_asset.shapes}\")"
   ]
  },
  {
   "cell_type": "markdown",
   "id": "0c024452",
   "metadata": {},
   "source": [
    "Our asset (AssetObject) \"asset_0\" is composed of one object (SceneObject) \"asset_0_body\".\n",
    "\n",
    "The name of the object is based on the asset name \"asset_0\" associated with the component name defined in Blender \"body\".\n",
    "\n",
    "The method AssetObject.shapes return a dictionnary, containing all the SceneObject that composed the asset.\n",
    "\n",
    "You should have noted that the dictionnary contains a so called weakproxy so the SceneObject. You can handle this object as any SceneObject since it is basically a proxy to the SceneObject. \n",
    "\n",
    "The only major difference is that the weakproxy is a weak reference to the SceneObject. The only strong reference to the SceneObject is contained in the Scene itself. Getting the SceneObject from the scene or the assets should only return a weak reference. The reason behind this design choice is explained later, when we will remove an AssetObject from the scene.\n",
    "\n",
    "To learn more on weak reference, see [here](https://docs.python.org/3.12/library/weakref.html)."
   ]
  },
  {
   "cell_type": "code",
   "execution_count": null,
   "id": "5a14ee1e",
   "metadata": {},
   "outputs": [],
   "source": [
    "# Print a dictionnary containing all the objects of the scene\n",
    "print(scene.objects) # also return weak references"
   ]
  },
  {
   "cell_type": "markdown",
   "id": "3a0454e3",
   "metadata": {},
   "source": [
    "The scene contains three objects:\n",
    "- The \"floor\" that was in the basic scene.\n",
    "- The \"wall\" that was also in the basic scene.\n",
    "- The \"body\", named \"asset_0_body\", that we have added.\n",
    "\n",
    "Hence, the body is seen as a classic SceneObject by Sionna."
   ]
  },
  {
   "cell_type": "code",
   "execution_count": null,
   "id": "0a595116",
   "metadata": {},
   "outputs": [],
   "source": [
    "# Get the body object from the scene as any SceneObject\n",
    "body_object = scene.get('asset_0_body') # also return a weak reference\n",
    "\n",
    "print(f\"Current body asset position: {body_asset.position.numpy()}\")\n",
    "print(f\"Current body asset orientation: {body_asset.orientation.numpy()}\")\n",
    "print(f\"Current body asset velocity: {body_asset.velocity.numpy()}\")\n",
    "\n",
    "print(f\"Current body object position: {body_object.position.numpy()}\")\n",
    "print(f\"Current body object orientation: {body_object.orientation.numpy()}\")\n",
    "print(f\"Current body object velocity: {body_object.velocity.numpy()}\")"
   ]
  },
  {
   "cell_type": "markdown",
   "id": "a350a446",
   "metadata": {},
   "source": [
    "The asset also exposes the usual attributes \"position\", \"orientation\" and \"velocity\".\n",
    "\n",
    "As it can be seen, the position of the object is not [0.,0.,0.], contrary to the asset one. This is because Sionna creates a virtual rectangular Axis-Aligned Bounding Box (AABB) around the whole asset and return the position of the barycenter of this box. Hence, the position is somewhere at the center of the body. The asset position, on the contrary, is the origin defined originally in Blender; here at the feet of the body. To witness that behavior, we can simply fix the position of the object to [0.,0.,0.] using the SceneObject property."
   ]
  },
  {
   "cell_type": "code",
   "execution_count": null,
   "id": "f77bbc4e",
   "metadata": {},
   "outputs": [],
   "source": [
    "# Store the original position\n",
    "original_body_object_position = body_object.position.numpy()\n",
    "\n",
    "# Manually set the SceneObject position\n",
    "body_object.position = [0.,0.,0.]\n",
    "\n",
    "print(f\"Current body object position: {body_object.position.numpy()}\")\n",
    "print(f\"Current body asset position: {body_asset.position.numpy()}\")\n",
    "\n",
    "# Preview the scene\n",
    "if colab_compat:\n",
    "    scene.render(camera=\"scene-cam-0\", num_samples=512)\n",
    "    raise ExitCell\n",
    "scene.preview()"
   ]
  },
  {
   "cell_type": "markdown",
   "id": "0f176595",
   "metadata": {},
   "source": [
    "The AABB (hit box) barycenter of our asset is now at the coordinates [0.,0.,0.]. The position (and other attributes like orientation and velocity) of the asset is not modified when modifying a component object."
   ]
  },
  {
   "cell_type": "code",
   "execution_count": null,
   "id": "e7f72725",
   "metadata": {},
   "outputs": [],
   "source": [
    "# Manually set the orientation of the SceneObject\n",
    "body_object.orientation = [np.pi/4.,np.pi/4.,np.pi/4.]\n",
    "\n",
    "print(f\"Orientation of the object: {body_object.orientation.numpy()}\")\n",
    "print(f\"Position of the object: {body_object.position.numpy()}\")\n",
    "\n",
    "# Preview the scene\n",
    "if colab_compat:\n",
    "    scene.render(camera=\"scene-cam-0\", num_samples=512)\n",
    "    raise ExitCell\n",
    "scene.preview()"
   ]
  },
  {
   "cell_type": "markdown",
   "id": "c089ce69",
   "metadata": {},
   "source": [
    "After the change of orientation of the SceneObject, the position of the barycenter of the object has changed. That is because Sionna's AABB is not rotated, but recomputed with edges parallel to the coordinate reference axis (x,y,z), hence modifying the barycenter position.\n",
    "\n",
    "That's why we advice to directly manipulate the asset itself, as you will be able to conveniently and consistently manipulate group of objects together. Also, this is more natural, as the origin of the asset is defined by the user through the asset generation in Blender.\n",
    "\n",
    "This is also the reason why modifying the position/orientation/velocity of an object from an asset will not modify the asset's configuration."
   ]
  },
  {
   "cell_type": "code",
   "execution_count": null,
   "id": "e068a1d1",
   "metadata": {},
   "outputs": [],
   "source": [
    "# Show that the position and orientation of the asset has not been modified\n",
    "print(f\"Position of the asset: {body_asset.position.numpy()}\")\n",
    "print(f\"Orientation of the asset: {body_asset.orientation.numpy()}\")\n",
    "\n",
    "# Position the body at its original position, with original orientation\n",
    "# First set the orientation and then the position to avoid side effect\n",
    "body_object.orientation = [0.,0.,0.]\n",
    "body_object.position = original_body_object_position\n",
    "\n",
    "print(f\"Position of the object: {body_object.position.numpy()}\")\n",
    "print(f\"Orientation of the object: {body_object.orientation.numpy()}\")\n",
    "\n",
    "# Preview the scene\n",
    "if colab_compat:\n",
    "    scene.render(camera=\"scene-cam-0\", num_samples=512)\n",
    "    raise ExitCell\n",
    "scene.preview()"
   ]
  },
  {
   "cell_type": "markdown",
   "id": "439316de",
   "metadata": {},
   "source": [
    "The body is back on its feet! Now let's move it to one side of the wall using the asset properties."
   ]
  },
  {
   "cell_type": "code",
   "execution_count": null,
   "id": "29d0d998",
   "metadata": {},
   "outputs": [],
   "source": [
    "# Move the body to one side of the wall\n",
    "body_asset.position = [1.,0.,0.]\n",
    "\n",
    "print(f\"Position of the asset: {body_asset.position.numpy()}\")\n",
    "print(f\"Orientation of the asset: {body_asset.orientation.numpy()}\")\n",
    "\n",
    "print(f\"Position of the object: {body_object.position.numpy()}\")\n",
    "print(f\"Orientation of the object: {body_object.orientation.numpy()}\")\n",
    "\n",
    "# Preview the scene\n",
    "if colab_compat:\n",
    "    scene.render(camera=\"scene-cam-0\", num_samples=512)\n",
    "    raise ExitCell\n",
    "scene.preview()"
   ]
  },
  {
   "cell_type": "markdown",
   "id": "a16d0a92",
   "metadata": {},
   "source": [
    "The body object position has been correctly moved along with the asset one. Now let's change its orientation so it faces the wall."
   ]
  },
  {
   "cell_type": "code",
   "execution_count": null,
   "id": "7627c667",
   "metadata": {},
   "outputs": [],
   "source": [
    "# Make the body face the wall\n",
    "body_asset.orientation = [-np.pi/2.,0.,0.]\n",
    "\n",
    "print(f\"Position of the asset: {body_asset.position.numpy()}\")\n",
    "print(f\"Orientation of the asset: {body_asset.orientation.numpy()}\")\n",
    "\n",
    "print(f\"Position of the object: {body_object.position.numpy()}\")\n",
    "print(f\"Orientation of the object: {body_object.orientation.numpy()}\")\n",
    "\n",
    "# Preview the scene\n",
    "if colab_compat:\n",
    "    scene.render(camera=\"scene-cam-0\", num_samples=512)\n",
    "    raise ExitCell\n",
    "scene.preview()"
   ]
  },
  {
   "cell_type": "markdown",
   "id": "834379f7",
   "metadata": {},
   "source": [
    "The center of the body asset is located at its feet. So we can turn it upside down."
   ]
  },
  {
   "cell_type": "code",
   "execution_count": null,
   "id": "91927d50",
   "metadata": {},
   "outputs": [],
   "source": [
    "# Turn the body upside down\n",
    "body_asset.orientation += [0.,np.pi,0.]\n",
    "\n",
    "print(f\"Position of the asset: {body_asset.position.numpy()}\")\n",
    "print(f\"Orientation of the asset: {body_asset.orientation.numpy()}\")\n",
    "\n",
    "print(f\"Position of the object: {body_object.position.numpy()}\")\n",
    "print(f\"Orientation of the object: {body_object.orientation.numpy()}\")\n",
    "\n",
    "# Preview the scene\n",
    "if colab_compat:\n",
    "    scene.render(camera=\"scene-cam-0\", num_samples=512)\n",
    "    raise ExitCell\n",
    "scene.preview()"
   ]
  },
  {
   "cell_type": "markdown",
   "id": "dfe2795e",
   "metadata": {},
   "source": [
    "## Adding a Second Asset"
   ]
  },
  {
   "cell_type": "markdown",
   "id": "cc0ffed3",
   "metadata": {},
   "source": [
    "Now, let's add another asset body to the scene."
   ]
  },
  {
   "cell_type": "code",
   "execution_count": null,
   "id": "e4ffbe57",
   "metadata": {},
   "outputs": [],
   "source": [
    "# Rename the reference to the first asset and object\n",
    "first_body_asset = body_asset\n",
    "first_body_object = body_object\n",
    "\n",
    "# Print the first body object memory address\n",
    "print(f\"Memory address of the first body (SceneObject): {repr(first_body_object)}\")\n",
    "\n",
    "# Create a second body asset\n",
    "second_body_asset = AssetObject(name=\"asset_1\", filename=sionna.rt.asset_object.body)\n",
    "\n",
    "# Add the second asset to the scene\n",
    "scene.add(second_body_asset) # trigger a scene reload\n",
    "\n",
    "# Show that the first body object is still the same after the scene relaod\n",
    "print(f\"Memory address of the first body (SceneObject): {repr(first_body_object)}\") # Same SceneObject, the weak reference is still alive\n",
    "# Same behavior by getting the object again from the scene\n",
    "print(f\"Memory address of the first body (SceneObject): {repr(scene.get('asset_0_body'))}\") # Same SceneObject, the weak reference is still alive\n",
    "\n",
    "# Preview the scene\n",
    "if colab_compat:\n",
    "    scene.render(camera=\"scene-cam-0\", num_samples=512)\n",
    "    raise ExitCell\n",
    "scene.preview()"
   ]
  },
  {
   "cell_type": "markdown",
   "id": "63c0e763",
   "metadata": {},
   "source": [
    "Again, adding an asset to a scene will reload the scene.\n",
    "\n",
    "All the objects already present in the scene, that should still be present after the reload, are set back to their previous state.\n",
    "\n",
    "Here, the \"asset_0_body\" attributes (position/orientation/velocity) are set back, so that it seems that the body never moved.\n",
    "\n",
    "The SceneObject (in the python sense) are the same, as it can be seen from the memory address of the SceneObject. Also, the weak references are still alive."
   ]
  },
  {
   "cell_type": "code",
   "execution_count": null,
   "id": "79700f2c",
   "metadata": {},
   "outputs": [],
   "source": [
    "# Check that the position of the asset_0 asset and asset_0_body object are set correctly\n",
    "print(f\"Position of the asset: {first_body_asset.position.numpy()}\")\n",
    "print(f\"Orientation of the asset: {first_body_asset.orientation.numpy()}\")\n",
    "print(f\"Position of the object: {first_body_object.position.numpy()}\")\n",
    "print(f\"Orientation of the object: {first_body_object.orientation.numpy()}\")"
   ]
  },
  {
   "cell_type": "markdown",
   "id": "a53d61e1",
   "metadata": {},
   "source": [
    "Now let's move our second asset, as we have for the first one."
   ]
  },
  {
   "cell_type": "code",
   "execution_count": null,
   "id": "bb526bc0",
   "metadata": {},
   "outputs": [],
   "source": [
    "# Show that the second asset was added to the scene\n",
    "print(\"Dictionnary of the assets in the scene.\")\n",
    "print(scene.asset_objects)\n",
    "\n",
    "# Show that the second body was added to the scene\n",
    "print(\"Dictionnary of the objects in the scene.\")\n",
    "print(scene.objects)\n",
    "\n",
    "# Get a reference to the second body object\n",
    "second_body_object = scene.get(\"asset_1_body\") # return a weak reference\n",
    "\n",
    "# Position the second asset/body, so that it mirrors the first one\n",
    "second_body_asset.position = [1.,0.,0.]\n",
    "second_body_asset.orientation = [-np.pi/2.,0.,0.]\n",
    "\n",
    "# Preview the scene\n",
    "if colab_compat:\n",
    "    scene.render(camera=\"scene-cam-0\", num_samples=512)\n",
    "    raise ExitCell\n",
    "scene.preview()"
   ]
  },
  {
   "cell_type": "markdown",
   "id": "62935deb",
   "metadata": {},
   "source": [
    "## Removing an Asset"
   ]
  },
  {
   "cell_type": "markdown",
   "id": "7935109e",
   "metadata": {},
   "source": [
    "We can remove an asset from a scene. This action triggers a scene reload."
   ]
  },
  {
   "cell_type": "code",
   "execution_count": null,
   "id": "26debf67",
   "metadata": {},
   "outputs": [],
   "source": [
    "# We remove the first asset\n",
    "scene.remove(\"asset_0\") # trigger scene reload\n",
    "\n",
    "print(f\"Scene assets: {scene.asset_objects}\")\n",
    "print(f\"Scene objects: {scene.objects}\")\n",
    "\n",
    "# Preview the scene\n",
    "if colab_compat:\n",
    "    scene.render(camera=\"scene-cam-0\", num_samples=512)\n",
    "    raise ExitCell\n",
    "scene.preview()"
   ]
  },
  {
   "cell_type": "markdown",
   "id": "49d2cfbb",
   "metadata": {},
   "source": [
    "The first asset has correctly been removed from the scene. All the component SceneObject (here the first body) have also been removed.\n",
    "\n",
    "The first thing to note, is that the AssetObject itself is not deleted outside of the scene."
   ]
  },
  {
   "cell_type": "code",
   "execution_count": null,
   "id": "1bbc1d2f",
   "metadata": {},
   "outputs": [],
   "source": [
    "# Show that the first AssetObject is still available\n",
    "print(first_body_asset)"
   ]
  },
  {
   "cell_type": "markdown",
   "id": "3521f0a7",
   "metadata": {},
   "source": [
    "Hence it can be added again to the scene if needed.\n",
    "\n",
    "The second thing to note, is that the removed SceneObject(s) are no longer referenced. More precisely, the strong reference in the scene has been deleted, removing any access through the weak references."
   ]
  },
  {
   "cell_type": "code",
   "execution_count": null,
   "id": "ff2e1791",
   "metadata": {},
   "outputs": [],
   "source": [
    "# The weak references are dead\n",
    "try:\n",
    "    print(first_body_object)\n",
    "except ReferenceError as e:\n",
    "    print(f\"Trying to access the SceneObject returned the error: {e}\")\n",
    "\n",
    "# The dictionnary of the asset is empty\n",
    "print(f\"The dictionnary of the component objects of the asset is equal to: {first_body_asset.shapes}\")"
   ]
  },
  {
   "cell_type": "markdown",
   "id": "acea418c",
   "metadata": {},
   "source": [
    "The main objective was to help the user and avoid errors, where one would try to access and modify SceneObjects that are not present in the scene anymore.\n",
    "\n",
    "The following cells presents the way to access to objects of the scene and some specific behavior."
   ]
  },
  {
   "cell_type": "code",
   "execution_count": null,
   "id": "1fa8c845",
   "metadata": {},
   "outputs": [],
   "source": [
    "# get method directly return a weakproxy reference to the SceneObject\n",
    "second_body_object_get = scene.get('asset_1_body')\n",
    "print(f\"Show the SceneObject: {second_body_object_get}\")\n",
    "print(f\"Show the weakproxy and the SceneObject: {repr(second_body_object_get)}\")\n",
    "print(f\"The type is ProxyType: {type(second_body_object_get)}\")\n",
    "print(f\"The basic memory address is the proxy one: {hex(id(second_body_object_get))}\")"
   ]
  },
  {
   "cell_type": "code",
   "execution_count": null,
   "id": "fa44d734",
   "metadata": {},
   "outputs": [],
   "source": [
    "# shapes attribute from asset return a dictionnary, filled with weakproxy to the component SceneObjects\n",
    "second_body_asset_shapes = second_body_asset.shapes\n",
    "print(f\"The dictionnary of the component objects of the asset is equal to: {second_body_asset_shapes}\")\n",
    "\n",
    "# Access to the SceneObject as you will with any dictionnary\n",
    "second_body_object_shapes = second_body_asset_shapes['asset_1_body']\n",
    "print(f\"Show the SceneObject: {second_body_object_shapes}\")\n",
    "print(f\"Show the weakproxy and the SceneObject: {repr(second_body_object_shapes)}\")\n",
    "print(f\"The type is ProxyType: {type(second_body_object_shapes)}\")\n",
    "print(f\"The basic memory address is the proxy one: {hex(id(second_body_object_shapes))}\")"
   ]
  },
  {
   "cell_type": "code",
   "execution_count": null,
   "id": "97bd134c",
   "metadata": {},
   "outputs": [],
   "source": [
    "# objects method from the scene return a custom WeakRefDict object\n",
    "scene_objects_dictionnary = scene.objects\n",
    "print(f\"The dictionnary of the objects of the scene is equal to: {scene_objects_dictionnary}\")\n",
    "      \n",
    "# Access to the SceneObject as you will with any dictionnary\n",
    "second_body_object_objects = scene_objects_dictionnary['asset_1_body']\n",
    "print(f\"Show the SceneObject: {second_body_object_objects}\")\n",
    "print(f\"Show the weakproxy and the SceneObject: {repr(second_body_object_objects)}\")\n",
    "print(f\"The type is ProxyType: {type(second_body_object_objects)}\")\n",
    "print(f\"The basic memory address is the proxy one: {hex(id(second_body_object_objects))}\")"
   ]
  },
  {
   "cell_type": "markdown",
   "id": "5d28e1f2",
   "metadata": {},
   "source": [
    "Adding an asset with the same name than another asset will replace the previous asset with the new one.\n",
    "\n",
    "The SceneObjects of the previous asset are removed and replaced with new ones.\n",
    "\n",
    "Only the name of the asset is important, not the content of the asset."
   ]
  },
  {
   "cell_type": "code",
   "execution_count": null,
   "id": "55211064",
   "metadata": {},
   "outputs": [],
   "source": [
    "# Create an asset with the same name\n",
    "second_body_asset_bis = AssetObject('asset_1', filename=sionna.rt.asset_object.body)\n",
    "\n",
    "# Add it to the scene remove the previous one, triggers a scene reload and warns the user\n",
    "scene.add(second_body_asset_bis)\n",
    "\n",
    "# All the previous weak references are dead\n",
    "try:\n",
    "    print(second_body_object_get)\n",
    "except ReferenceError as e:\n",
    "    print(f\"Trying to access the SceneObject returned the error: {e}\")\n",
    "try:\n",
    "    print(second_body_object_shapes)\n",
    "except ReferenceError as e:\n",
    "    print(f\"Trying to access the SceneObject returned the error: {e}\")\n",
    "try:\n",
    "    print(second_body_object_objects)\n",
    "except ReferenceError as e:\n",
    "    print(f\"Trying to access the SceneObject returned the error: {e}\")\n",
    "    \n",
    "# The original asset object still exist, but not in the scene\n",
    "print(f\"The original asset: {second_body_asset}\")\n",
    "# This is the one in the scene\n",
    "print(f\"The new asset: {second_body_asset_bis}\")\n",
    "print(f\"Scene assets: {scene.asset_objects}\")\n",
    "print(f\"Scene objects: {scene.objects}\")\n",
    "\n",
    "# Preview the scene\n",
    "if colab_compat:\n",
    "    scene.render(camera=\"scene-cam-0\", num_samples=512)\n",
    "    raise ExitCell\n",
    "scene.preview()"
   ]
  },
  {
   "cell_type": "markdown",
   "id": "97d8d828",
   "metadata": {},
   "source": [
    "## Multi Component Objects Asset"
   ]
  },
  {
   "cell_type": "markdown",
   "id": "e3ba238f",
   "metadata": {},
   "source": [
    "So now that we have play a little with a single body, let's use a two bodies asset."
   ]
  },
  {
   "cell_type": "code",
   "execution_count": null,
   "id": "0804f2db",
   "metadata": {},
   "outputs": [],
   "source": [
    "# Remove the body asset\n",
    "scene.remove('asset_1') # scene reload\n",
    "\n",
    "print(f\"Scene assets: {scene.asset_objects}\")\n",
    "print(f\"Scene objects: {scene.objects}\")"
   ]
  },
  {
   "cell_type": "code",
   "execution_count": null,
   "id": "27179342",
   "metadata": {},
   "outputs": [],
   "source": [
    "# Load the two bodies asset\n",
    "two_bodies_asset = AssetObject(name=\"asset_two_bodies\", filename=sionna.rt.asset_object.two_persons)\n",
    "\n",
    "# Add the asset to the scene\n",
    "scene.add(two_bodies_asset) # scene reload\n",
    "\n",
    "print(f\"Scene assets: {scene.asset_objects}\")\n",
    "print(f\"Scene objects: {scene.objects}\")\n",
    "\n",
    "# Preview the scene\n",
    "if colab_compat:\n",
    "    scene.render(camera=\"scene-cam-0\", num_samples=512)\n",
    "    raise ExitCell\n",
    "scene.preview()"
   ]
  },
  {
   "cell_type": "markdown",
   "id": "0c3e8a9f",
   "metadata": {},
   "source": [
    "Our asset is composed of two objects \"asset_two_bodies_person_1\" and \"asset_two_bodies_person_2\", as it can be seen in the objects list of the scene.\n",
    "\n",
    "We can use the asset properties to move the bodies around."
   ]
  },
  {
   "cell_type": "code",
   "execution_count": null,
   "id": "ed89f983",
   "metadata": {},
   "outputs": [],
   "source": [
    "# Get individual objects\n",
    "body_1_object = scene.get('asset_two_bodies_person_1')\n",
    "body_2_object = scene.get('asset_two_bodies_person_2')\n",
    "\n",
    "# Move the two bodies to one side of the wall\n",
    "two_bodies_asset.position = [1.,0.,0.]\n",
    "\n",
    "print(f\"Position of the asset: {two_bodies_asset.position.numpy()}\")\n",
    "print(f\"Orientation of the asset: {two_bodies_asset.orientation.numpy()}\")\n",
    "\n",
    "print(f\"Position of the person 1 object: {body_1_object.position.numpy()}\")\n",
    "print(f\"Orientation of the person 1 object: {body_1_object.orientation.numpy()}\") \n",
    "\n",
    "print(f\"Position of the person 2 object: {body_2_object.position.numpy()}\")\n",
    "print(f\"Orientation of the person 2 object: {body_2_object.orientation.numpy()}\")\n",
    "\n",
    "# Preview the scene\n",
    "if colab_compat:\n",
    "    scene.render(camera=\"scene-cam-0\", num_samples=512)\n",
    "    raise ExitCell\n",
    "scene.preview()"
   ]
  },
  {
   "cell_type": "markdown",
   "id": "0cecc0b2",
   "metadata": {},
   "source": [
    "As explained before, using the asset properties is convenient to move around group of SceneObjects.\n",
    "\n",
    "Here, the two bodies are both handled by a single asset.\n",
    "\n",
    "Also, note that the orientation property of the SceneObject is not related to the actual orientation of the bodies, but represent the current angle compared to the one at init.\n",
    "\n",
    "The center of position and rotation of the asset is on the ground, between the two bodies."
   ]
  },
  {
   "cell_type": "code",
   "execution_count": null,
   "id": "d2a56ae5",
   "metadata": {},
   "outputs": [],
   "source": [
    "# Move the two bodies to each side of the wall\n",
    "two_bodies_asset.position = [0.,0.,0.]\n",
    "two_bodies_asset.orientation = [np.pi/2.,0.,0.]\n",
    "\n",
    "print(f\"Position of the asset: {two_bodies_asset.position.numpy()}\")\n",
    "print(f\"Orientation of the asset: {two_bodies_asset.orientation.numpy()}\")\n",
    "\n",
    "print(f\"Position of the person 1 object: {body_1_object.position.numpy()}\")\n",
    "print(f\"Orientation of the person 1 object: {body_1_object.orientation.numpy()}\") \n",
    "\n",
    "print(f\"Position of the person 2 object: {body_2_object.position.numpy()}\")\n",
    "print(f\"Orientation of the person 2 object: {body_2_object.orientation.numpy()}\")\n",
    "\n",
    "# Preview the scene\n",
    "if colab_compat:\n",
    "    scene.render(camera=\"scene-cam-0\", num_samples=512)\n",
    "    raise ExitCell\n",
    "scene.preview()"
   ]
  },
  {
   "cell_type": "markdown",
   "id": "82c60807",
   "metadata": {},
   "source": [
    "## Interaction with Paths"
   ]
  },
  {
   "cell_type": "markdown",
   "id": "c324d2cb",
   "metadata": {},
   "source": [
    "Now we will demonstrate that the componennt objects of assets have the same interaction with ray tracing than any other Sionna's SceneObject.\n",
    "\n",
    "We will add a TX/RX couple at each side of the wall.\n",
    "\n",
    "The bodies objects will be individually moved (even if not recommended), so that we increase the space between them and can use them as reflectors."
   ]
  },
  {
   "cell_type": "code",
   "execution_count": null,
   "id": "c52b06b2",
   "metadata": {},
   "outputs": [],
   "source": [
    "# Place the bodies\n",
    "two_bodies_asset.orientation = [0.,0.,0.]\n",
    "body_1_object.position += [0.,1.5,0.]\n",
    "body_2_object.position += [0.,-1.5,0.]\n",
    "\n",
    "# Preview the scene\n",
    "if colab_compat:\n",
    "    scene.render(camera=\"scene-cam-0\", num_samples=512)\n",
    "    raise ExitCell\n",
    "scene.preview()"
   ]
  },
  {
   "cell_type": "code",
   "execution_count": null,
   "id": "6b70f571",
   "metadata": {},
   "outputs": [],
   "source": [
    "# Configure the transmitter and receiver arrays\n",
    "# These are isotropic antennas\n",
    "scene.tx_array = PlanarArray(num_rows=1,\n",
    "                             num_cols=1,\n",
    "                             vertical_spacing=0.5,\n",
    "                             horizontal_spacing=0.5,\n",
    "                             pattern=\"iso\",\n",
    "                             polarization=\"V\")\n",
    "\n",
    "scene.rx_array = scene.tx_array\n",
    "\n",
    "# Add a transmitter and receiver with equal distance from the center of the scene\n",
    "# The position is set precisely to get reflexions from the bodies hands\n",
    "scene.add(Transmitter(name=\"tx\", position=[-3.1,0.,2.1]))\n",
    "scene.add(Receiver(name=\"rx\", position=[3.1,0.,2.1]))\n",
    "\n",
    "# Preview the scene\n",
    "if colab_compat:\n",
    "    scene.render(camera=\"scene-cam-0\", num_samples=512)\n",
    "    raise ExitCell\n",
    "scene.preview()"
   ]
  },
  {
   "cell_type": "code",
   "execution_count": null,
   "id": "91f6b3b7",
   "metadata": {},
   "outputs": [],
   "source": [
    "# Fix the scene frequency\n",
    "scene.frequency = 2.4e9\n",
    "\n",
    "# No LOS, one reflection max, exhaustive path tracing\n",
    "paths = scene.compute_paths(los=False, reflection=True, max_depth=1, num_samples=1e6, method='exhaustive')\n",
    "\n",
    "print(f\"Amplitude of the paths: {np.abs(paths.a[0,0,0,0,0,1:,0].numpy())}\")\n",
    "print(f\"Delay of the paths: {paths.tau[0,0,0,1:].numpy()}\")\n",
    "\n",
    "# Open 3D preview (only works in Jupyter notebook)\n",
    "if colab_compat:\n",
    "    scene.render(\"scene-cam-0\", paths=paths);\n",
    "    raise ExitCell\n",
    "scene.preview(paths=paths)"
   ]
  },
  {
   "cell_type": "markdown",
   "id": "e8354ca2",
   "metadata": {},
   "source": [
    "The bodies provided in the asset are composed of numerous small reflective surfaces. The positions of TX and RX were chosen to obtain reflections on the hands.\n",
    "\n",
    "NB: To see more paths, one could activate the scattering.\n",
    "\n",
    "There are exactly 9 paths in the scene:\n",
    "* The first path to arrive is reflected on the floor.\n",
    "* The 8 other paths are reflected on the hands. You can zoom on the preview to see the 8 paths.\n",
    "\n",
    "In the paths list, we can identify which path reflected on which body by looking at the objects property of the paths."
   ]
  },
  {
   "cell_type": "code",
   "execution_count": null,
   "id": "286c3711",
   "metadata": {},
   "outputs": [],
   "source": [
    "# Print the object on which each path reflected\n",
    "print(f\"Object ID on which the corresponding path reflected: {paths.objects[0,0,0,1:]}\")\n",
    "\n",
    "# Show object ID of body 1 and 2\n",
    "print(f\"Floor ID: {scene.get('floor').object_id}\")\n",
    "print(f\"First body ID: {body_1_object.object_id}\")\n",
    "print(f\"Second body ID: {body_2_object.object_id}\")"
   ]
  },
  {
   "cell_type": "markdown",
   "id": "c5c145c3",
   "metadata": {},
   "source": [
    "Because of the symetry of the scene, these paths arrive at (almost) the same time with (almost) the same energy."
   ]
  },
  {
   "cell_type": "code",
   "execution_count": null,
   "id": "46a0ab2b",
   "metadata": {},
   "outputs": [],
   "source": [
    "# Get the paths amplitude and delay\n",
    "a, tau = paths.cir()\n",
    "\n",
    "# Remove first null LOS path\n",
    "a = a[...,1:,:]\n",
    "tau = tau[...,1:]\n",
    "\n",
    "t = tau[0,0,0,:]/1e-9 # Scale to ns\n",
    "a_abs = np.abs(a)[0,0,0,0,0,:,0]\n",
    "a_max = np.max(a_abs)\n",
    "\n",
    "# Add dummy entry at start/end for nicer figure\n",
    "t = np.concatenate([(0.,), t, (np.max(t)*1.1,)])\n",
    "a_abs = np.concatenate([(np.nan,), a_abs, (np.nan,)])\n",
    "\n",
    "# Plot the CIR\n",
    "plt.figure()\n",
    "plt.title(\"Channel impulse response realization\")\n",
    "plt.stem(t, a_abs)\n",
    "plt.xlim([0, np.max(t)])\n",
    "plt.ylim([-2e-6, a_max*1.1])\n",
    "plt.xlabel(r\"$\\tau$ [ns]\")\n",
    "plt.ylabel(r\"$|a|$\");"
   ]
  },
  {
   "cell_type": "markdown",
   "id": "46fca0ec",
   "metadata": {},
   "source": [
    "On the CIR, we can see that the 8 paths reflected by the hands arrived at the same time, around 2.45 ns. Generating the time channel estimate from the CIR should merge the power of these paths."
   ]
  },
  {
   "cell_type": "code",
   "execution_count": null,
   "id": "b81eaeac",
   "metadata": {},
   "outputs": [],
   "source": [
    "# Compute the time channel from the CIR\n",
    "sampling_freq = 5e9 # 0.2ns resolution\n",
    "l_min = -6\n",
    "l_max = 20\n",
    "h_time = cir_to_time_channel(bandwidth=sampling_freq, a=a, tau=tau, l_min=l_min, l_max=l_max, normalize=True)\n",
    "t_time = np.arange(l_min, (l_max+1), 1) * (1/sampling_freq)\n",
    "\n",
    "h_time_abs = np.abs(h_time[0,0,0,0,0,0,:].numpy())\n",
    "\n",
    "# And plot the CIR\n",
    "plt.figure()\n",
    "plt.title(\"Time Channel from CIR\")\n",
    "plt.stem(t_time, h_time_abs)\n",
    "plt.xlim([0, np.max(t_time)])\n",
    "plt.xlabel(r\"$\\tau$ [ns]\")\n",
    "plt.ylabel(r\"$|h_{time}|$\");"
   ]
  },
  {
   "cell_type": "markdown",
   "id": "3a6e94a4",
   "metadata": {},
   "source": [
    "## Radio Materials and BSDFs"
   ]
  },
  {
   "cell_type": "markdown",
   "id": "d7f50fc0",
   "metadata": {},
   "source": [
    "In Sionna the materials of the SceneObjects are defined by a RadioMaterial.\n",
    "\n",
    "A RadioMaterial defines how the radio waves will interact with the object, thanks to attributes like permittivity, conductivity or scattering coefficient.\n",
    "\n",
    "Sionna defines some radio materials at initialization. All the radio materials currently defined and available can be exposed by the radio_materials dictionnary from the scene:"
   ]
  },
  {
   "cell_type": "code",
   "execution_count": null,
   "id": "7ac2790a",
   "metadata": {},
   "outputs": [],
   "source": [
    "print(scene.radio_materials)"
   ]
  },
  {
   "cell_type": "markdown",
   "id": "30db559b",
   "metadata": {},
   "source": [
    "This does not mean that they are all currently used in the scene itself, but they are defined in Sionna.\n",
    "\n",
    "Each RadioMaterial has a name and can be allocated to a SceneObject. Also, we can check all the objects with a given RadioMaterial."
   ]
  },
  {
   "cell_type": "code",
   "execution_count": null,
   "id": "ff441921",
   "metadata": {},
   "outputs": [],
   "source": [
    "# Check the radio material of each object of the scene\n",
    "for obj in list(scene.objects.values()):\n",
    "    print(f\"SceneObject {obj.name} is composed of {obj.radio_material.name}\")\n",
    "    \n",
    "# Get the objects using each material if any\n",
    "# The objects are referenced in the RadioMaterial through their object ID\n",
    "for rm in list(scene.radio_materials.values()):\n",
    "    obj_list = []\n",
    "    for obj_id in rm.using_objects:\n",
    "        for obj in list(scene.objects.values()):\n",
    "            if obj.object_id == obj_id:\n",
    "                obj_list.append(obj.name)\n",
    "    if len(obj_list) != 0:\n",
    "        print(f\"Material {rm.name} is used by {obj_list}\")"
   ]
  },
  {
   "cell_type": "code",
   "execution_count": null,
   "id": "e42a3257",
   "metadata": {},
   "outputs": [],
   "source": [
    "# Modify the RadioMaterial of the first person\n",
    "body_1_object.radio_material = \"itu_brick\" # does NOT trigger a reload scene\n",
    "\n",
    "# Alternative call:\n",
    "# itu_brick_rm = scene.get('itu_brick') # return a RadioMaterial\n",
    "# body_1_object.radio_material = itu_brick_rm\n",
    "\n",
    "print(f\"{body_1_object.name} is made of {body_1_object.radio_material.name}\")\n",
    "\n",
    "# Check that the first person is now in the list of itu_brick RM, and not anymore in itu_concrete\n",
    "for rm in list(scene.radio_materials.values()):\n",
    "    obj_list = []\n",
    "    for obj_id in rm.using_objects:\n",
    "        for obj in list(scene.objects.values()):\n",
    "            if obj.object_id == obj_id:\n",
    "                obj_list.append(obj.name)\n",
    "    if len(obj_list) != 0:\n",
    "        print(f\"Material {rm.name} is used by {obj_list}\")\n",
    "    \n",
    "# Preview the scene\n",
    "if colab_compat:\n",
    "    scene.render(camera=\"scene-cam-0\", num_samples=512)\n",
    "    raise ExitCell\n",
    "scene.preview()"
   ]
  },
  {
   "cell_type": "markdown",
   "id": "5c73679a",
   "metadata": {},
   "source": [
    "As you can see, the visual aspect of the first body is still in marble and has not been updated. Changing the radio material of an object do not change the way it is rendered in the scene.\n",
    "\n",
    "This is because the scene is NOT reloaded after a RadioMaterial assignement, since it would break differentiability. \n",
    "\n",
    "To update the rendering, one can manually trigger a scene reload.\n",
    "\n",
    "It should be noted that RadioMaterial is correctly set and would affect the paths as expected."
   ]
  },
  {
   "cell_type": "code",
   "execution_count": null,
   "id": "bcc5d652",
   "metadata": {},
   "outputs": [],
   "source": [
    "# Check the impact on the paths\n",
    "paths = scene.compute_paths(los=False, reflection=True, max_depth=1, num_samples=1e6, method='exhaustive')\n",
    "\n",
    "print(f\"Amplitude of the paths: {np.abs(paths.a[0,0,0,0,0,1:,0].numpy())}\")\n",
    "print(f\"Delay of the paths: {paths.tau[0,0,0,1:].numpy()}\")\n",
    "\n",
    "# Print the object on which each path reflected\n",
    "print(f\"Object ID on which the corresponding path reflected: {paths.objects[0,0,0,1:]}\")\n",
    "\n",
    "# Show object ID of body 1 and 2\n",
    "print(f\"Floor ID: {scene.get('floor').object_id}\")\n",
    "print(f\"First body ID: {body_1_object.object_id}\")\n",
    "print(f\"Second body ID: {body_2_object.object_id}\")"
   ]
  },
  {
   "cell_type": "markdown",
   "id": "c5be1008",
   "metadata": {},
   "source": [
    "The paths with amplitude 4.7e-4 bounced on the brick person (first body), and the ones with amplitude 5.7e-4 bounced on the marble person (second body)."
   ]
  },
  {
   "cell_type": "code",
   "execution_count": null,
   "id": "72f81dab",
   "metadata": {},
   "outputs": [],
   "source": [
    "# Manually reload the scene to change the renderring\n",
    "scene.reload()\n",
    "\n",
    "# Preview the scene\n",
    "if colab_compat:\n",
    "    scene.render(camera=\"scene-cam-0\", num_samples=512)\n",
    "    raise ExitCell\n",
    "scene.preview()"
   ]
  },
  {
   "cell_type": "markdown",
   "id": "b9a933d7",
   "metadata": {},
   "source": [
    "After the reload of the scene, the positions of the objects are maintained after the reload. The first body is correctly displayed as a brick object.\n",
    "\n",
    "The RadioMaterial class does not defined itself how it should be rendered. This is handled by the BSDF class.\n",
    "\n",
    "A single BSDF is affected to each RadioMaterial defined in Sionna.\n",
    "\n",
    "At initialization, the BSDF is defined as random. It is said to be \"placeholder\". Hence one can use any pre-defined RadioMaterial without specifying the BSDF, but we advice to define a proper custom BSDF before that.\n",
    "\n",
    "The definition of the BSDF can be done manually, or directly through the .xml file of the scene or an asset."
   ]
  },
  {
   "cell_type": "code",
   "execution_count": null,
   "id": "013003e2",
   "metadata": {},
   "outputs": [],
   "source": [
    "# Get a RadioMaterial defined in the scene\n",
    "rm_itu_metal = scene.get(\"itu_metal\")\n",
    "\n",
    "# Show the BSDF object associated to it\n",
    "print(f\"The BSDF object describing the itu_metal rendering: {rm_itu_metal.bsdf}\")\n",
    "print(f\"The BSDF object has a name: {rm_itu_metal.bsdf.name}\")\n",
    "print(f\"The corresponding (random) RGB triplet: {rm_itu_metal.bsdf.rgb}\")\n",
    "\n",
    "# Set the second body radio material to itu_metal\n",
    "body_2_object.radio_material = \"itu_metal\"\n",
    "\n",
    "# Manually reload the scene to change the renderring\n",
    "scene.reload()\n",
    "\n",
    "# Preview the scene\n",
    "if colab_compat:\n",
    "    scene.render(camera=\"scene-cam-0\", num_samples=512)\n",
    "    raise ExitCell\n",
    "scene.preview()"
   ]
  },
  {
   "cell_type": "markdown",
   "id": "772ff2f2",
   "metadata": {},
   "source": [
    "We can modify the BSDF manually and set a custom RGB triplet, or equivalently the color using a color name.\n",
    "\n",
    "The list of available colors can be found [here](https://matplotlib.org/stable/gallery/color/named_colors.html#css-colors)\n",
    "\n",
    "Modifying the BSDF triggers a scene reload, to modify the rendering."
   ]
  },
  {
   "cell_type": "code",
   "execution_count": null,
   "id": "81e3a72f",
   "metadata": {},
   "outputs": [],
   "source": [
    "# Check if the BSDF is placeholder\n",
    "print(f\"At initialization, the BSDF is a placeholder: {rm_itu_metal.bsdf.is_placeholder}\")\n",
    "\n",
    "# Setting the RGB of a BSDF triggers a reload scene to update the rendering\n",
    "rm_itu_metal.bsdf.color = 'chartreuse'\n",
    "print(f\"The corresponding chartreuse RGB triplet: {rm_itu_metal.bsdf.rgb}\")\n",
    "\n",
    "# Check if BSDF is placeholder\n",
    "print(f\"After setting the color, the BSDF is not a placeholder anymore: {rm_itu_metal.bsdf.is_placeholder}\")\n",
    "\n",
    "# Preview the scene\n",
    "if colab_compat:\n",
    "    scene.render(camera=\"scene-cam-0\", num_samples=512)\n",
    "    raise ExitCell\n",
    "scene.preview()"
   ]
  },
  {
   "cell_type": "markdown",
   "id": "944ac81a",
   "metadata": {},
   "source": [
    "Once the BSDF of a RadioMaterial has been set, it is not a placeholder anymore. It means that the BSDF is seen has set: the user has defined how the material should be rendered.\n",
    "\n",
    "Placeholder or not, the BSDF can still be modified manually by the user."
   ]
  },
  {
   "cell_type": "code",
   "execution_count": null,
   "id": "ed4707e2",
   "metadata": {},
   "outputs": [],
   "source": [
    "# Create new BSDF object manually\n",
    "correct_metal_bsdf = BSDF(name='metal_color', color=[69./255.,58/255.,60/255.])\n",
    "correct_wood_bsdf = BSDF(name='wood_color', color='sienna')\n",
    "\n",
    "# Get the 'itu_wood' RadioMaterial, it has a placeholder BSDF\n",
    "rm_itu_wood = scene.get('itu_wood')\n",
    "\n",
    "# Assign the input BSDF properties to the RadioMaterial BSDFs\n",
    "rm_itu_metal.bsdf.assign(correct_metal_bsdf) # triggers scene reload\n",
    "rm_itu_wood.bsdf.assign(correct_wood_bsdf) # triggers scene reload\n",
    "\n",
    "# Show that the name of the RadioMaterial's BSDF didn't changed\n",
    "print(f\"The name of the itu_wood BSDF is: {rm_itu_wood.bsdf.name}\")\n",
    "print(f\"The name of the itu_metal BSDF is: {rm_itu_metal.bsdf.name}\")\n",
    "\n",
    "# Show that the BSDF ot itu_wood is no longer placeholder\n",
    "print(f\"The BSDF of itu_wood is not a placeholder anymore: {rm_itu_wood.bsdf.is_placeholder}\")\n",
    "\n",
    "# Preview the scene\n",
    "if colab_compat:\n",
    "    scene.render(camera=\"scene-cam-0\", num_samples=512)\n",
    "    raise ExitCell\n",
    "scene.preview()"
   ]
  },
  {
   "cell_type": "markdown",
   "id": "361d4970",
   "metadata": {},
   "source": [
    "When you load a scene or add an asset, each shape, a.k.a SceneObject, is associated with a BSDF described in the .xml file of the scene/asset. Then, the RadioMaterial of the SceneObject is infered, based on the name of the BSDF.\n",
    "\n",
    "Two basic behaviors can be triggered:\n",
    "* The BSDF / RadioMaterial name is not currently known in Sionna. A new RadioMaterial is added to the scene with the same name and associated with the corresponding BSDF. You still have to specify the RadioMaterial properties for interaction with radio waves.\n",
    "* The BSDF / RadioMaterial name already exist. The shapes will be associated with the pre-existing RadioMaterial. Regarding the BSDF of the RadioMaterial, if it is still a placeholder, then it will be automatically replaced by the one defined in the .xml file. Otherwise, the standard behavior is to keep the BSDF already specified in the RadioMaterial, and to discard the new BSDF. This is what happened in this notebook, when we loaded the scene itu_brick and itu_concrete BSDFs where overwrited, as well as itu_marble when we loaded our assets.\n",
    "\n",
    "It is possible to provide a RadioMaterial, by name or object reference, to an asset. This will set the RadioMaterial of all component SceneObject to the given RadioMaterial.\n",
    "\n",
    "Equivalently, if all the component objects of an asset have the same RadioMaterial, it will automatically set the asset RadioMaterial property."
   ]
  },
  {
   "cell_type": "code",
   "execution_count": null,
   "id": "7b427258",
   "metadata": {},
   "outputs": [],
   "source": [
    "print(f\"Currently, body 1 is in brick and body 2 is in metal. The asset RadioMaterial is undefined: {two_bodies_asset.radio_material}\")\n",
    "\n",
    "# Set body 1 to the same RadioMaterial as body 2\n",
    "body_1_object.radio_material = body_2_object.radio_material\n",
    "\n",
    "print(f\"Now that both bodies are in itu_metal, the asset also took that property: {two_bodies_asset.radio_material.name}\")"
   ]
  },
  {
   "cell_type": "code",
   "execution_count": null,
   "id": "386207c2",
   "metadata": {},
   "outputs": [],
   "source": [
    "# Create a new two persons asset and force the RadioMaterial of both bodies as itu_wood\n",
    "two_bodies_asset_bis = AssetObject(name='asset_2', filename=sionna.rt.asset_object.two_persons, orientation=[-np.pi/2.,0.,0.], radio_material='itu_wood')\n",
    "\n",
    "# Add it to the scene\n",
    "scene.add(two_bodies_asset_bis) # triggers scene reload\n",
    "\n",
    "# Preview the scene\n",
    "if colab_compat:\n",
    "    scene.render(camera=\"scene-cam-0\", num_samples=512)\n",
    "    raise ExitCell\n",
    "scene.preview()"
   ]
  },
  {
   "cell_type": "markdown",
   "id": "56b87a84",
   "metadata": {},
   "source": [
    "Changing the RadioMaterial of the asset will change the component SceneObjects ones."
   ]
  },
  {
   "cell_type": "code",
   "execution_count": null,
   "id": "6dcf74c2",
   "metadata": {},
   "outputs": [],
   "source": [
    "# Set the RadioMaterial of the two bodies\n",
    "two_bodies_asset_bis.radio_material = 'itu_marble'\n",
    "\n",
    "# Check that it worked\n",
    "print(f\"Current RadioMaterial of the asset is: {two_bodies_asset_bis.radio_material.name}\")\n",
    "\n",
    "# Manually reload the scene to update the rendering\n",
    "scene.reload()\n",
    "\n",
    "# Preview the scene\n",
    "if colab_compat:\n",
    "    scene.render(camera=\"scene-cam-0\", num_samples=512)\n",
    "    raise ExitCell\n",
    "scene.preview()"
   ]
  },
  {
   "cell_type": "markdown",
   "id": "4cec5899",
   "metadata": {},
   "source": [
    "The itu_marble BSDF was defined in the .xml file of the assets body and two_persons.\n",
    "\n",
    "It means that the BSDF is not placeholder.\n",
    "\n",
    "Since the BSDF has been defined through an .xml file, it also means that it does not have a RGB/color property.\n",
    "\n",
    "Setting the RGB/color manually will overwrite the .xml definition of the BSDF."
   ]
  },
  {
   "cell_type": "code",
   "execution_count": null,
   "id": "cfb9f0cc",
   "metadata": {},
   "outputs": [],
   "source": [
    "# Change manually the BSDF of itu_marble\n",
    "rm_itu_marble = scene.get('itu_marble')\n",
    "print(f\"Is the BSDF placeholder: {rm_itu_marble.bsdf.is_placeholder}\")\n",
    "print(f\"The BSDF does not have a color or RGB: {rm_itu_marble.bsdf.rgb} | {rm_itu_marble.bsdf.color}\")\n",
    "# Manually set the color to overwrite its .xml element\n",
    "rm_itu_marble.bsdf.color = 'magenta'\n",
    "\n",
    "# Preview the scene\n",
    "if colab_compat:\n",
    "    scene.render(camera=\"scene-cam-0\", num_samples=512)\n",
    "    raise ExitCell\n",
    "scene.preview()"
   ]
  },
  {
   "cell_type": "code",
   "execution_count": null,
   "id": "c3958e0b",
   "metadata": {},
   "outputs": [],
   "source": [
    "# Clear the scene by removing asset_1\n",
    "scene.remove('asset_two_bodies') # trigger scene reload\n",
    "\n",
    "# Create a new asset body. The .xml file describes a itu_marble BSDF\n",
    "body_asset = AssetObject(name='asset_3', filename=sionna.rt.asset_object.body)\n",
    "\n",
    "# Add the asset to the scene\n",
    "scene.add(body_asset) # trigger a scene reload\n",
    "\n",
    "# Preview the scene\n",
    "if colab_compat:\n",
    "    scene.render(camera=\"scene-cam-0\", num_samples=512)\n",
    "    raise ExitCell\n",
    "scene.preview()"
   ]
  },
  {
   "cell_type": "markdown",
   "id": "e98a55c8",
   "metadata": {},
   "source": [
    "While a more appropriate color was provided in the asset .xml file for the itu_marble RadioMaterial's BSDF, it has not been selected because the current BSDF is not placeholder.\n",
    "\n",
    "Yet, this original BSDF can be recovered in the AssetObject."
   ]
  },
  {
   "cell_type": "code",
   "execution_count": null,
   "id": "d312ff5e",
   "metadata": {},
   "outputs": [],
   "source": [
    "# Get the dictionnary of the BSDFs originally present in the asset .xml file\n",
    "print(f\"Dictionnary of original BSDF: {body_asset.original_bsdfs}\")"
   ]
  },
  {
   "cell_type": "markdown",
   "id": "f082f9ad",
   "metadata": {},
   "source": [
    "With the original BSDF accessible, the user can manually apply them if necessary.\n",
    "\n",
    "We can still force the BSDF overwrite by setting the property overwrite_scene_bsdfs to True at the AssetObject creation. It should be noted that the flag takes effect only when the asset is added to the scene."
   ]
  },
  {
   "cell_type": "code",
   "execution_count": null,
   "id": "b5c45abb",
   "metadata": {},
   "outputs": [],
   "source": [
    "# Set the flag to True when creating the AssetObject\n",
    "body_asset = AssetObject(name='asset_3', filename=sionna.rt.asset_object.body, overwrite_scene_bsdfs=True)\n",
    "\n",
    "# Add the asset to the scene\n",
    "scene.add(body_asset) # trigger a scene reload\n",
    "\n",
    "# Preview the scene\n",
    "if colab_compat:\n",
    "    scene.render(camera=\"scene-cam-0\", num_samples=512)\n",
    "    raise ExitCell\n",
    "scene.preview()"
   ]
  },
  {
   "cell_type": "markdown",
   "id": "a2a78490",
   "metadata": {},
   "source": [
    "Since the asset's flag overwrite_scene_bsdfs was set to True before being added to the scene, all the involved BSDFs have been overwritten.\n",
    "\n",
    "In case you plan to create a new custom RadioMaterial, a random BSDF will be automatically allocated to it."
   ]
  },
  {
   "cell_type": "code",
   "execution_count": null,
   "id": "02bfc897",
   "metadata": {},
   "outputs": [],
   "source": [
    "# Create a custom RadioMaterial\n",
    "my_custom_rm = RadioMaterial(name='my_custom_mat')\n",
    "\n",
    "# Print the random RGB triplet associated\n",
    "print(f\"The BSDF name of my custom RadioMaterial is: {my_custom_rm.bsdf.name}\")\n",
    "print(f\"At init, the RGB triplet of my custom RadioMaterial was: {my_custom_rm.bsdf.rgb}\")\n",
    "\n",
    "# Associate my new material with the solo body\n",
    "body_asset.radio_material = my_custom_rm\n",
    "\n",
    "# Modify the rendering so it looks like metal\n",
    "my_custom_rm.bsdf.assign(rm_itu_metal.bsdf) # trigger a scene reload\n",
    "print(f\"The BSDF name of my custom RadioMaterial is still the same: {my_custom_rm.bsdf.name}\")\n",
    "print(f\"And the two BSDFs are different python objects: {hex(id(my_custom_rm.bsdf))} is not equal to {hex(id(rm_itu_metal.bsdf))}\")\n",
    "\n",
    "# Alternative way to create the RadioMaterial with the desired BSDF\n",
    "# my_custom_rm = RadioMaterial(name='my_custom_mat', bsdf=rm_itu_metal.bsdf)\n",
    "\n",
    "# Preview the scene\n",
    "if colab_compat:\n",
    "    scene.render(camera=\"scene-cam-0\", num_samples=512)\n",
    "    raise ExitCell\n",
    "scene.preview()"
   ]
  },
  {
   "cell_type": "markdown",
   "id": "f007864d",
   "metadata": {},
   "source": [
    "When the custom RadioMaterial is applied to a SceneObject, it is automatically added to the scene.radio_materials dictionnary and to the .xml file describing the scene.\n",
    "\n",
    "It is not possible to add to the scene a RadioMaterial with the same name as another one. As you may have noticed, the modification of a RadioMaterial property from anywhere (from an AssetObject, a SceneObject, etc) will propagate to all the SceneObject sharing this RadioMaterial. In fact, each RadioMaterial object is unique, so that the scene is coherent.\n",
    "\n",
    "Yet, there is a mechanism to assign the properties of a RadioMaterial to another."
   ]
  },
  {
   "cell_type": "code",
   "execution_count": null,
   "id": "d816e5a3",
   "metadata": {},
   "outputs": [],
   "source": [
    "# Create antoher cutom RadioMaterial with the same name\n",
    "my_custom_rm_bis = RadioMaterial(name='my_custom_mat', relative_permittivity=100000., bsdf=rm_itu_wood.bsdf)\n",
    "    \n",
    "# Assigning my_custom_rm_bis to an object would raise an error\n",
    "# Two possible solutions to solve this\n",
    "# First solution, modify the RadioMaterial of the scene\n",
    "my_custom_rm.assign(my_custom_rm_bis)\n",
    "\n",
    "# Check the permitivity \n",
    "print(f\"The permitivity of my custom RadioMaterial is now {my_custom_rm.relative_permittivity}\")\n",
    "print(f\"The two RadioMaterial are different python objects: {hex(id(my_custom_rm))} is not equal to {hex(id(my_custom_rm_bis))}\")\n",
    "\n",
    "# Need to reload the scene manually to update the rendering\n",
    "scene.reload()\n",
    "\n",
    "# Preview the scene\n",
    "if colab_compat:\n",
    "    scene.render(camera=\"scene-cam-0\", num_samples=512)\n",
    "    raise ExitCell\n",
    "scene.preview()"
   ]
  },
  {
   "cell_type": "markdown",
   "id": "3a1fb96c",
   "metadata": {},
   "source": [
    "As you can see, the .assign method for radio material does not automatically reload the scene.\n",
    "\n",
    "Yet, the BSDF is correctly transfered from one RadioMaterial to another."
   ]
  },
  {
   "cell_type": "code",
   "execution_count": null,
   "id": "eed269cd",
   "metadata": {},
   "outputs": [],
   "source": [
    "my_custom_rm_bis.relative_permittivity = 10.\n",
    "my_custom_rm_bis.bsdf.assign(rm_itu_metal.bsdf)\n",
    "\n",
    "# Second solution, set the asset flag overwrite_scene_radio_materials to True when creating the AssetObject and change its RadioMaterial\n",
    "# The overwrite action will be triggered when the asset is added to the scene\n",
    "body_asset = AssetObject(name='asset_3', filename=sionna.rt.asset_object.body, radio_material=my_custom_rm_bis, overwrite_scene_radio_materials=True)\n",
    "\n",
    "# Add the asset to the scene\n",
    "# Since it has the same name as the other body asset, the one present in the scene will be replaced\n",
    "scene.add(body_asset) # trigger a scene reload\n",
    "\n",
    "# Check the permitivity \n",
    "print(f\"The permitivity of my custom RadioMaterial is now {my_custom_rm.relative_permittivity}\")\n",
    "\n",
    "# Preview the scene\n",
    "if colab_compat:\n",
    "    scene.render(camera=\"scene-cam-0\", num_samples=512)\n",
    "    raise ExitCell\n",
    "scene.preview()"
   ]
  },
  {
   "cell_type": "markdown",
   "id": "307bafed",
   "metadata": {},
   "source": [
    "## Annex Asset Features"
   ]
  },
  {
   "cell_type": "code",
   "execution_count": null,
   "id": "5eb0c7d4",
   "metadata": {},
   "outputs": [],
   "source": [
    "# Asset Look at"
   ]
  },
  {
   "cell_type": "code",
   "execution_count": null,
   "id": "3a6ef843",
   "metadata": {},
   "outputs": [],
   "source": [
    "# Asset velocity"
   ]
  },
  {
   "cell_type": "markdown",
   "id": "e621c3db",
   "metadata": {},
   "source": [
    "## Asset Gradient Descent"
   ]
  },
  {
   "cell_type": "code",
   "execution_count": null,
   "id": "316c4df4",
   "metadata": {},
   "outputs": [],
   "source": [
    "# Showcase gradient descent using a demongorgon and upside down pursuit"
   ]
  },
  {
   "cell_type": "code",
   "execution_count": null,
   "id": "1052fecc",
   "metadata": {},
   "outputs": [],
   "source": [
    "# Remove single object from an asset or the scene"
   ]
  },
  {
   "cell_type": "markdown",
   "id": "80096243",
   "metadata": {
    "tags": []
   },
   "source": [
    "## Conclusion and Outlook"
   ]
  }
 ],
 "metadata": {
  "interpreter": {
   "hash": "4cd7ab41f5fca4b9b44701077e38c5ffd31fe66a6cab21e0214b68d958d0e462"
  },
  "kernelspec": {
   "display_name": "Python 3 (ipykernel)",
   "language": "python",
   "name": "python3"
  },
  "language_info": {
   "codemirror_mode": {
    "name": "ipython",
    "version": 3
   },
   "file_extension": ".py",
   "mimetype": "text/x-python",
   "name": "python",
   "nbconvert_exporter": "python",
   "pygments_lexer": "ipython3",
   "version": "3.11.9"
  },
  "vscode": {
   "interpreter": {
    "hash": "e7370f93d1d0cde622a1f8e1c04877d8463912d04d973331ad4851f04de6915a"
   }
  },
  "widgets": {
   "application/vnd.jupyter.widget-state+json": {
    "state": {},
    "version_major": 2,
    "version_minor": 0
   }
  }
 },
 "nbformat": 4,
 "nbformat_minor": 5
}
