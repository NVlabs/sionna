{
 "cells": [
  {
   "cell_type": "markdown",
   "metadata": {
    "pycharm": {
     "name": "#%% md\n"
    }
   },
   "source": [
    "# Optical Channel with Lumped Ampflication"
   ]
  },
  {
   "cell_type": "markdown",
   "metadata": {},
   "source": [
    "Import all required modules."
   ]
  },
  {
   "cell_type": "code",
   "execution_count": 2,
   "metadata": {
    "tags": []
   },
   "outputs": [],
   "source": [
    "# Third party imports\n",
    "import numpy as np\n",
    "import matplotlib.pyplot as plt\n",
    "\n",
    "%matplotlib inline\n",
    "\n",
    "# Local application imports\n",
    "try:\n",
    "    import sionna\n",
    "except ImportError as e:\n",
    "    import sys\n",
    "    sys.path.append(\"../\")\n",
    "import tensorflow as tf\n",
    "\n",
    "from sionna.channel.optical import fiber\n",
    "from sionna.channel.optical import edfa\n",
    "from sionna.channel import utils"
   ]
  },
  {
   "cell_type": "markdown",
   "metadata": {
    "pycharm": {
     "name": "#%% md\n"
    }
   },
   "source": [
    "Determine whether GPU is available."
   ]
  },
  {
   "cell_type": "code",
   "execution_count": 3,
   "metadata": {
    "collapsed": false,
    "jupyter": {
     "outputs_hidden": false
    },
    "pycharm": {
     "name": "#%%\n"
    }
   },
   "outputs": [
    {
     "name": "stdout",
     "output_type": "stream",
     "text": [
      "Number of GPUs available : 0\n"
     ]
    }
   ],
   "source": [
    "gpus = tf.config.list_physical_devices('GPU')\n",
    "print('Number of GPUs available :', len(gpus))\n",
    "if gpus:\n",
    "    gpu_num = 0 # Number of the GPU to be used\n",
    "    try:\n",
    "        tf.config.set_visible_devices(gpus[gpu_num], 'GPU')\n",
    "        print('Only GPU number', gpu_num, 'used.')\n",
    "        tf.config.experimental.set_memory_growth(gpus[gpu_num], True)\n",
    "    except RuntimeError as e:\n",
    "        print(e)"
   ]
  },
  {
   "cell_type": "markdown",
   "metadata": {
    "pycharm": {
     "name": "#%% md\n"
    }
   },
   "source": [
    "Configuration of the optical channel and transmission system.\n",
    "The SSFM is implemented using normalized units for distance and time.\n",
    "Hence, as long as the same unit is used for all parameters $\\left[\\alpha\\right]=\\frac{1}{L_\\mathrm{norm}}$, $\\beta_2$, ...\n",
    "This not only simplifies the usage of the SSFM but also prevents from dealing with different orders of magnitude within the SSFM.\n",
    "Unfortunately, normalized units cannot be used for the remaining optical components."
   ]
  },
  {
   "cell_type": "code",
   "execution_count": 4,
   "metadata": {
    "collapsed": false,
    "jupyter": {
     "outputs_hidden": false
    },
    "pycharm": {
     "name": "#%%\n"
    }
   },
   "outputs": [],
   "source": [
    "dtype = tf.complex128\n",
    "\n",
    "# Normalization\n",
    "t_norm = 1e-12  # (s) -> (ps) Time normalization\n",
    "z_norm = 1e3  # (m) -> (km) Distance normalization\n",
    "\n",
    "# Simulation parameters\n",
    "t_sim = 10000  # (ps) Norm. simulation time window\n",
    "n_sim = 10000  # (1) Number of simulation samples\n",
    "\n",
    "# Fiber parameters\n",
    "n_ssfm = 200  # (1) No. of SSFM steps\n",
    "f_c = 193.55e12  # (Hz) Carrier frequency\n",
    "ell_sp = 40.0  # (km) Norm. fiber span length\n",
    "alpha = 0.046  # (1/km) Norm. fiber attenuation\n",
    "beta_2 = -21.67  # (ps^2/km) Norm. fiber chromatic dispersion\n",
    "gamma = 1.27  # (1/km/W) Norm. fiber Kerr nonlinearity\n",
    "n_sp = 0.0  # (1) Spontaneous emission factor\n",
    "\n",
    "# EDFA parameters\n",
    "# Gain depends on fiber attenuation, which shall be compensated for completely\n",
    "# to obtain a transparent link\n",
    "f_edfa = 5.0  # (1) Spontaneous emission factor\n",
    "\n",
    "# Signal parameters\n",
    "p_0 = 1e-3  # (W) Peak power of the Gaussian pulse\n",
    "t_0 = 50  # (ps) Norm. temporal scaling of the Gaussian pulse\n",
    "\n",
    "# PREPARATION\n",
    "dt = t_sim / n_sim  # (s) Time step\n",
    "t, f = utils.time_frequency_vector(\n",
    "    n_sim, dt, dtype=dtype.real_dtype)  # (s), (Hz) Time and\n",
    "# frequency vector"
   ]
  },
  {
   "cell_type": "markdown",
   "metadata": {
    "pycharm": {
     "name": "#%% md\n"
    }
   },
   "source": [
    "Channel definition"
   ]
  },
  {
   "cell_type": "code",
   "execution_count": 5,
   "metadata": {
    "collapsed": false,
    "jupyter": {
     "outputs_hidden": false
    },
    "pycharm": {
     "name": "#%%\n"
    }
   },
   "outputs": [],
   "source": [
    "span = sionna.channel.optical.SSFM(\n",
    "    alpha=alpha, beta_2=beta_2, f_c=f_c, gamma=gamma,\n",
    "    half_window_length=0, ell=ell_sp, n_ssfm=n_ssfm, dt=dt,\n",
    "    with_amplification=False, with_attenuation=True,\n",
    "    with_dispersion=True, with_nonlinearity=True,\n",
    "    dtype=dtype, t_norm=t_norm, n_sp=n_sp,\n",
    ")\n",
    "\n",
    "amplifier = sionna.channel.optical.EDFA(\n",
    "    g=tf.exp(alpha * ell_sp), f=f_edfa, f_c=f_c, dt=dt * t_norm,\n",
    "    dtype=dtype)\n",
    "\n",
    "\n",
    "# @tf.function\n",
    "def lumped_amplification_channel(inputs):\n",
    "    (u_0) = inputs\n",
    "\n",
    "    u = u_0\n",
    "    u = span(u)\n",
    "    u = amplifier(u)\n",
    "    u = span(u)\n",
    "    u = amplifier(u)\n",
    "    u = span(u)\n",
    "    u = amplifier(u)\n",
    "\n",
    "    return u"
   ]
  },
  {
   "cell_type": "markdown",
   "metadata": {
    "pycharm": {
     "name": "#%% md\n"
    }
   },
   "source": [
    "Transmission of a single Gauss-impulse"
   ]
  },
  {
   "cell_type": "code",
   "execution_count": 6,
   "metadata": {
    "collapsed": false,
    "jupyter": {
     "outputs_hidden": false
    },
    "pycharm": {
     "name": "#%%\n"
    }
   },
   "outputs": [],
   "source": [
    "# TRANSMISSION\n",
    "# Generate Gaussian impulse\n",
    "x_0 = np.real(np.sqrt(p_0) * np.exp(-((t / t_0) ** 2.0) / 2.0))\n",
    "x_0 = tf.complex(\n",
    "    tf.cast(x_0, dtype=dtype.real_dtype),\n",
    "    tf.cast(0.0, dtype=dtype.real_dtype))\n",
    "X_0 = tf.signal.fftshift(\n",
    "    tf.abs(\n",
    "        tf.cast(dt, dtype) *\n",
    "        tf.signal.fft(x_0) /\n",
    "        tf.cast(tf.math.sqrt(2 * np.pi), dtype)\n",
    "    ) ** 2\n",
    ")\n",
    "\n",
    "# Transmit impulse over lumped amplification channel\n",
    "x = lumped_amplification_channel(x_0)"
   ]
  },
  {
   "cell_type": "markdown",
   "metadata": {
    "pycharm": {
     "name": "#%% md\n"
    }
   },
   "source": [
    "Evaluation"
   ]
  },
  {
   "cell_type": "code",
   "execution_count": 7,
   "metadata": {
    "collapsed": false,
    "jupyter": {
     "outputs_hidden": false
    },
    "pycharm": {
     "name": "#%%\n"
    }
   },
   "outputs": [
    {
     "data": {
      "image/png": "[encoded data removed]",
      "text/plain": [
       "<Figure size 432x288 with 2 Axes>"
      ]
     },
     "metadata": {
      "needs_background": "light"
     },
     "output_type": "display_data"
    }
   ],
   "source": [
    "# Plot transmit and receive impulse\n",
    "X = tf.signal.fftshift(\n",
    "    tf.abs(\n",
    "        tf.cast(dt, dtype) *\n",
    "        tf.signal.fft(x) /\n",
    "        tf.cast(tf.math.sqrt(2 * np.pi), dtype)\n",
    "    ) ** 2)\n",
    "\n",
    "fig, (ax1, ax2) = plt.subplots(2, 1)\n",
    "\n",
    "ax1.plot(t.numpy().flatten(), np.abs(x_0.numpy().flatten())**2, '-')\n",
    "ax1.plot(t.numpy().flatten(), np.abs(x.numpy().flatten())**2, '--')\n",
    "ax1.set_xlim(-150, 150)\n",
    "ax1.set_xlabel(r\"$(t-\\beta_1 z)$ in (ps)\")\n",
    "ax1.set_ylabel(r\"$|x(z,\\,t)|^2$ in (W)\")\n",
    "ax1.grid()\n",
    "\n",
    "ax2.plot(\n",
    "    f.numpy().flatten(),\n",
    "    (X_0.numpy().flatten())/np.max(X_0.numpy().flatten()),\n",
    "    '-')\n",
    "ax2.plot(\n",
    "    f.numpy().flatten(),\n",
    "    (X.numpy().flatten())/np.max(X_0.numpy().flatten()),\n",
    "    '--')\n",
    "ax2.set_xlim(-0.01, 0.01)\n",
    "ax2.set_xlabel(r\"$(f-f_c)$ in (THz)\")\n",
    "ax2.set_ylabel(r\"$\\frac{|X(z,f-f_c)|^2}{|X_\\mathrm{0,max}|^2}$\")\n",
    "ax2.grid()\n",
    "\n",
    "plt.show()"
   ]
  },
  {
   "cell_type": "code",
   "execution_count": null,
   "metadata": {},
   "outputs": [],
   "source": []
  }
 ],
 "metadata": {
  "kernelspec": {
   "display_name": "Python 3",
   "language": "python",
   "name": "python3"
  },
  "language_info": {
   "codemirror_mode": {
    "name": "ipython",
    "version": 3
   },
   "file_extension": ".py",
   "mimetype": "text/x-python",
   "name": "python",
   "nbconvert_exporter": "python",
   "pygments_lexer": "ipython3",
   "version": "3.8.10"
  }
 },
 "nbformat": 4,
 "nbformat_minor": 4
}
